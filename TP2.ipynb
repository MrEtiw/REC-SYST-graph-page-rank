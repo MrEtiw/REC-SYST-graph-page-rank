{
 "cells": [
  {
   "cell_type": "markdown",
   "metadata": {},
   "source": [
    "# TP2: Techniques de graphes.\n",
    "\n",
    "Boisvenue, Étienne (1798942)\n",
    "\n",
    "Pigeon, Élisa (1970583)\n",
    "\n",
    "\n",
    "LOG6308: Systèmes de recommandations\n",
    "\n",
    "Samedi 2 novembre, A2019.\n",
    "\n",
    "**Mise en contexte:**\n",
    "\n",
    "Le travail gravite autour de la recommandations d'articles scientifiques. En premier lieu, on nous demande de recommander des articles scientifiques en utilisant le graphe dirigé dont chaque sommet est un article et chaque arête est une citation. Ceci demande d'appliquer l'algorithme Page Rank.\n",
    "\n",
    "On compare par la suite nos résultats avec une approche item-item, en s'assurant de valider les performances de l'approche avec une validation croisée. La détermination des similarités entre les articles est laissé à notre discrétion. \n",
    "\n",
    "\n",
    "\n",
    "**Données:**\n",
    "\n",
    "Une liste de 1090 références nous est fournie, extraite de la base de données Citeseer. Seules les citations contenus à l'intérieur de ces 1090 références font parties de notre base de données (matrice d'adjacence). Ainsi, lorsque il est possible que l'article référence en réalité à beaucoup plus d'articles que ce que nous observons dans note matrice d'adjacence. \n",
    "\n",
    "\n",
    "**Terminologie:**\n",
    "\n",
    "- *Référence*: Une référence d'un article représente un lien sortant de l'article. Cela veut donc dire que la référence est citée dans l'article.\n",
    "\n",
    "- *Référant*: Un référant d'un article représente un lien entrant de l'article. Cela veut donc dire que le référant mentionne l'article. "
   ]
  },
  {
   "cell_type": "markdown",
   "metadata": {},
   "source": [
    "## Importation des modules pertinents"
   ]
  },
  {
   "cell_type": "code",
   "execution_count": 1,
   "metadata": {},
   "outputs": [
    {
     "name": "stderr",
     "output_type": "stream",
     "text": [
      "\n",
      "Attaching package: 'igraph'\n",
      "\n",
      "The following objects are masked from 'package:stats':\n",
      "\n",
      "    decompose, spectrum\n",
      "\n",
      "The following object is masked from 'package:base':\n",
      "\n",
      "    union\n",
      "\n",
      "network: Classes for Relational Data\n",
      "Version 1.15 created on 2019-04-01.\n",
      "copyright (c) 2005, Carter T. Butts, University of California-Irvine\n",
      "                    Mark S. Handcock, University of California -- Los Angeles\n",
      "                    David R. Hunter, Penn State University\n",
      "                    Martina Morris, University of Washington\n",
      "                    Skye Bender-deMoll, University of Washington\n",
      " For citation information, type citation(\"network\").\n",
      " Type help(\"network-package\") to get started.\n",
      "\n",
      "\n",
      "Attaching package: 'network'\n",
      "\n",
      "The following objects are masked from 'package:igraph':\n",
      "\n",
      "    %c%, %s%, add.edges, add.vertices, delete.edges, delete.vertices,\n",
      "    get.edge.attribute, get.edges, get.vertex.attribute, is.bipartite,\n",
      "    is.directed, list.edge.attributes, list.vertex.attributes,\n",
      "    set.edge.attribute, set.vertex.attribute\n",
      "\n",
      "Loading required package: statnet.common\n",
      "\n",
      "Attaching package: 'statnet.common'\n",
      "\n",
      "The following object is masked from 'package:base':\n",
      "\n",
      "    order\n",
      "\n",
      "sna: Tools for Social Network Analysis\n",
      "Version 2.4 created on 2016-07-23.\n",
      "copyright (c) 2005, Carter T. Butts, University of California-Irvine\n",
      " For citation information, type citation(\"sna\").\n",
      " Type help(package=\"sna\") to get started.\n",
      "\n",
      "\n",
      "Attaching package: 'sna'\n",
      "\n",
      "The following objects are masked from 'package:igraph':\n",
      "\n",
      "    betweenness, bonpow, closeness, components, degree, dyad.census,\n",
      "    evcent, hierarchy, is.connected, neighborhood, triad.census\n",
      "\n",
      "Registered S3 methods overwritten by 'ggplot2':\n",
      "  method         from \n",
      "  [.quosures     rlang\n",
      "  c.quosures     rlang\n",
      "  print.quosures rlang\n",
      "Registered S3 method overwritten by 'GGally':\n",
      "  method from   \n",
      "  +.gg   ggplot2\n",
      "Registered S3 method overwritten by 'rvest':\n",
      "  method            from\n",
      "  read_xml.response xml2\n",
      "-- Attaching packages --------------------------------------- tidyverse 1.2.1 --\n",
      "v tibble  2.1.1       v purrr   0.3.2  \n",
      "v tidyr   0.8.3       v dplyr   0.8.0.1\n",
      "v readr   1.3.1       v stringr 1.4.0  \n",
      "v tibble  2.1.1       v forcats 0.4.0  \n",
      "-- Conflicts ------------------------------------------ tidyverse_conflicts() --\n",
      "x dplyr::as_data_frame() masks tibble::as_data_frame(), igraph::as_data_frame()\n",
      "x dplyr::between()       masks data.table::between()\n",
      "x purrr::compose()       masks igraph::compose()\n",
      "x tidyr::crossing()      masks igraph::crossing()\n",
      "x dplyr::filter()        masks stats::filter()\n",
      "x dplyr::first()         masks data.table::first()\n",
      "x dplyr::groups()        masks igraph::groups()\n",
      "x dplyr::lag()           masks stats::lag()\n",
      "x dplyr::last()          masks data.table::last()\n",
      "x purrr::simplify()      masks igraph::simplify()\n",
      "x purrr::transpose()     masks data.table::transpose()\n",
      "\n",
      "Attaching package: 'Matrix'\n",
      "\n",
      "The following object is masked from 'package:tidyr':\n",
      "\n",
      "    expand\n",
      "\n",
      "Loading required package: SnowballC\n"
     ]
    }
   ],
   "source": [
    "# Retrait de l'affichage des avertissements\n",
    "options(warn=-1)\n",
    "\n",
    "# Téléchargement\n",
    "#install.packages(\"igraph\")\n",
    "#install.packages(\"network\")\n",
    "#install.packages(\"sna\")\n",
    "#install.packages(\"GGally\")\n",
    "#install.packages(\"lsa\")\n",
    "#install.packages(\"philentropy\")\n",
    "#install.packages(\"hash\")\n",
    "\n",
    "\n",
    "# Importation\n",
    "library(igraph)\n",
    "library(network)\n",
    "library(sna)\n",
    "library(ggplot2)\n",
    "library(GGally)\n",
    "library(data.table)\n",
    "library(tidyverse)\n",
    "library(Matrix)\n",
    "library(lsa)\n",
    "library(hash)\n",
    "library(philentropy) ###### https://cran.r-project.org/web/packages/philentropy/vignettes/Distances.html\n"
   ]
  },
  {
   "cell_type": "markdown",
   "metadata": {},
   "source": [
    "## Fonctions utiles"
   ]
  },
  {
   "cell_type": "code",
   "execution_count": 2,
   "metadata": {},
   "outputs": [],
   "source": [
    "# Calcul la valeur modale d'un vecteur. Tiré de: https://www.tutorialspoint.com/r/r_mean_median_mode.htm\n",
    "getmode <- function(v) {\n",
    "   uniqv <- unique(v)\n",
    "   uniqv[which.max(tabulate(match(v, uniqv)))]\n",
    "}\n",
    "\n",
    "# Retourne la similitude en cosinus entre un vecteur v et une matrice m\n",
    "cosinus.vm <- function(v,m) { n <- sqrt(colSums(m^2)); (v %*% m)/(n * sqrt(sum(v^2))) }\n",
    "\n",
    "\n",
    "# Retourne les positions (index) des n valeur maximales dans la matrice m\n",
    "max.nindex <- function(m, n=5) {\n",
    "    i <- order(m, decreasing=TRUE)\n",
    "    return(i[1:n])\n",
    "}\n",
    "\n",
    "# Retourne les positions (index) des n valeurs minimales dans la matrice m\n",
    "min.nindex <- function(m, n=5) {\n",
    "    i <- order(m)\n",
    "    return(i[1:n])\n",
    "}"
   ]
  },
  {
   "cell_type": "markdown",
   "metadata": {},
   "source": [
    "## Importation des données\n",
    "*m* est la matrice d'adjacence décrivant complètement note graphe. Voici comment lire les données dans *m*: S'il y a la valeur 1 sur la ligne représentant la référence *A* à l'intersection de la colonne représentant la référence *B*, alors *A* cite *B*.\n",
    "Les lignes représentent donc les articles cités alors que les colonnes représentent les articles étant cités. "
   ]
  },
  {
   "cell_type": "code",
   "execution_count": 3,
   "metadata": {},
   "outputs": [],
   "source": [
    "m = read.table(\"http://cours.polymtl.ca/MDesmarais/log6308/Public/citeseer.rtable\")"
   ]
  },
  {
   "cell_type": "markdown",
   "metadata": {},
   "source": [
    "## Brève exploration des données (statistiques descriptives)\n",
    "Exploration initiale de l'ensemble de données. Le but est simplement de se familiariser avec l'ensemble de données pour mieux le comprendre et être capable de trouver la valeur que l'on pourrait en retirer.\n",
    "\n",
    "Explorons les différents attributs, la distribution des attributs et essayons d'avoir quelques *insights* initiaux. "
   ]
  },
  {
   "cell_type": "code",
   "execution_count": 4,
   "metadata": {},
   "outputs": [
    {
     "data": {
      "text/html": [
       "'Nombre de lignes: 1090'"
      ],
      "text/latex": [
       "'Nombre de lignes: 1090'"
      ],
      "text/markdown": [
       "'Nombre de lignes: 1090'"
      ],
      "text/plain": [
       "[1] \"Nombre de lignes: 1090\""
      ]
     },
     "metadata": {},
     "output_type": "display_data"
    },
    {
     "data": {
      "text/html": [
       "'Nombre de colonnes: 1090'"
      ],
      "text/latex": [
       "'Nombre de colonnes: 1090'"
      ],
      "text/markdown": [
       "'Nombre de colonnes: 1090'"
      ],
      "text/plain": [
       "[1] \"Nombre de colonnes: 1090\""
      ]
     },
     "metadata": {},
     "output_type": "display_data"
    },
    {
     "data": {
      "text/html": [
       "<span style=white-space:pre-wrap>'La matrice d\\'adjacence est remplie à  0.242572174059423 %'</span>"
      ],
      "text/latex": [
       "'La matrice d\\textbackslash{}'adjacence est remplie à  0.242572174059423 \\%'"
      ],
      "text/markdown": [
       "<span style=white-space:pre-wrap>'La matrice d\\'adjacence est remplie à  0.242572174059423 %'</span>"
      ],
      "text/plain": [
       "[1] \"La matrice d'adjacence est remplie à  0.242572174059423 %\""
      ]
     },
     "metadata": {},
     "output_type": "display_data"
    },
    {
     "data": {
      "image/png": "[encoded data removed]",
      "text/plain": [
       "Plot with title \"Distribution des numéros d'articles\""
      ]
     },
     "metadata": {},
     "output_type": "display_data"
    },
    {
     "data": {
      "text/html": [
       "'Nombre de références sortantes d\\'un article '"
      ],
      "text/latex": [
       "'Nombre de références sortantes d\\textbackslash{}'un article '"
      ],
      "text/markdown": [
       "'Nombre de références sortantes d\\'un article '"
      ],
      "text/plain": [
       "[1] \"Nombre de références sortantes d'un article \""
      ]
     },
     "metadata": {},
     "output_type": "display_data"
    },
    {
     "data": {
      "text/plain": [
       "   Min. 1st Qu.  Median    Mean 3rd Qu.    Max. \n",
       "  0.000   0.000   1.000   2.644   4.000  41.000 "
      ]
     },
     "metadata": {},
     "output_type": "display_data"
    },
    {
     "data": {
      "text/html": [
       "'Nombre de références entrantes d\\'un article '"
      ],
      "text/latex": [
       "'Nombre de références entrantes d\\textbackslash{}'un article '"
      ],
      "text/markdown": [
       "'Nombre de références entrantes d\\'un article '"
      ],
      "text/plain": [
       "[1] \"Nombre de références entrantes d'un article \""
      ]
     },
     "metadata": {},
     "output_type": "display_data"
    },
    {
     "data": {
      "text/plain": [
       "   Min. 1st Qu.  Median    Mean 3rd Qu.    Max. \n",
       "  0.000   0.000   1.000   2.644   3.000 170.000 "
      ]
     },
     "metadata": {},
     "output_type": "display_data"
    },
    {
     "data": {
      "text/html": [
       "'Valeur modale du nombre d\\'arcs entrant dans un article'"
      ],
      "text/latex": [
       "'Valeur modale du nombre d\\textbackslash{}'arcs entrant dans un article'"
      ],
      "text/markdown": [
       "'Valeur modale du nombre d\\'arcs entrant dans un article'"
      ],
      "text/plain": [
       "[1] \"Valeur modale du nombre d'arcs entrant dans un article\""
      ]
     },
     "metadata": {},
     "output_type": "display_data"
    },
    {
     "data": {
      "text/html": [
       "0"
      ],
      "text/latex": [
       "0"
      ],
      "text/markdown": [
       "0"
      ],
      "text/plain": [
       "[1] 0"
      ]
     },
     "metadata": {},
     "output_type": "display_data"
    },
    {
     "data": {
      "text/html": [
       "'Valeur modale du nombre d\\'arcs sortant dans un article'"
      ],
      "text/latex": [
       "'Valeur modale du nombre d\\textbackslash{}'arcs sortant dans un article'"
      ],
      "text/markdown": [
       "'Valeur modale du nombre d\\'arcs sortant dans un article'"
      ],
      "text/plain": [
       "[1] \"Valeur modale du nombre d'arcs sortant dans un article\""
      ]
     },
     "metadata": {},
     "output_type": "display_data"
    },
    {
     "data": {
      "text/html": [
       "0"
      ],
      "text/latex": [
       "0"
      ],
      "text/markdown": [
       "0"
      ],
      "text/plain": [
       "[1] 0"
      ]
     },
     "metadata": {},
     "output_type": "display_data"
    },
    {
     "data": {
      "image/png": "[encoded data removed]",
      "text/plain": [
       "Plot with title \"Distributions du nombre d'arcs entrant et sortant\""
      ]
     },
     "metadata": {},
     "output_type": "display_data"
    }
   ],
   "source": [
    "# On observe la dimension de la matrice d'adjacence\n",
    "nb_ligne <- dim(m)[1]\n",
    "nb_colonne <- dim(m)[2]\n",
    "paste(\"Nombre de lignes:\",nb_ligne)\n",
    "paste(\"Nombre de colonnes:\", nb_colonne)\n",
    "\n",
    "# On observe le format des index (''nom des articles'')\n",
    "articles <- row.names(m)\n",
    "hist(as.numeric(articles),\n",
    "    main=\"Distribution des numéros d'articles\",\n",
    "    xlab=\"Numéro de l'article\",\n",
    "    ylab=\"Fréquence\")\n",
    "\n",
    "# On calcul le pourcentage de remplissage de la matrice d'adjacence\n",
    "nb_case <- nb_ligne*nb_colonne\n",
    "non_nul <- sum(m[m!=0])\n",
    "pourcent_rempli <- non_nul/nb_case\n",
    "paste(\"La matrice d'adjacence est remplie à \", pourcent_rempli*100, \"%\")\n",
    "\n",
    "# Nombre de liens sortant (références) par article\n",
    "ref_in <- colSums(m)\n",
    "\n",
    "# Nombre de liens entrant (référençant) par article\n",
    "ref_out <- rowSums(m)\n",
    "\n",
    "\n",
    "# Distributions des arcs entrants et sortants de chaque article\n",
    "# diagramme de Tukey\n",
    "boxplot(ref_in, ref_out,\n",
    "main = \"Distributions du nombre d'arcs entrant et sortant\",\n",
    "at = c(1,2),\n",
    "names = c(\"Entrant\", \"Sortant\"),\n",
    "las = 2,\n",
    "col = c(\"orange\",\"red\"),\n",
    "border = \"black\",\n",
    "horizontal = TRUE,\n",
    "notch = TRUE\n",
    ")\n",
    "# Résumé\n",
    "paste(\"Nombre de références sortantes d'un article \")\n",
    "summary(ref_out)\n",
    "paste(\"Nombre de références entrantes d'un article \")\n",
    "summary(ref_in)\n",
    "\n",
    "# Valeurs modales\n",
    "paste(\"Valeur modale du nombre d'arcs entrant dans un article\")\n",
    "(getmode(ref_in))\n",
    "paste(\"Valeur modale du nombre d'arcs sortant dans un article\")\n",
    "(getmode(ref_out))"
   ]
  },
  {
   "cell_type": "markdown",
   "metadata": {},
   "source": [
    "*m* est évidemment carré, puisque chaque article qui référence peut également être référencé. On observe également que les numéros des articles ne sont pas uniformément distribués (tel qu'il est souvent le cas dans une base de données pour les identifiants uniques). Malgré que la valeur des numéros d'articles n'est pas porteur d'information, il est important d'être conscient que les numéros d'articles ne sont pas nécessairement consécutif, comme il était le cas dans le TP1. Il faudra donc faire attention, car par exemple, l'article à la ligne (index) 56 dans la matrice d'adjacence ne représente pas nécessairement l'article numéro 56. \n",
    "\n",
    "La matrice d'adjacence est très creuse. Elle ne possède que 2882 éléments non-nuls, ce qui représente 0.24% de *m*. \n",
    "\n",
    "Selon les diagrammes de Tukey, nous observons que les positions des quartiles (reflétant la distribution) sont similaires pour le nombre de références et de référencemment par article. La majorité des observations, pour les deux distributions, se trouvent entre 0 et 10. Les valeurs aberrantes (outliers) pour les arcs entrant s'étalent très loin, soit jusqu'à 170, alors que le maximum d'arcs sortant d'un article est de 41. Évidemment, la moyenne des deux distributions est la même, puisque nous travaillons avec un emsemble fermé (il n'exsite aucune référence entrante ou sortante qui ne fait pas partie de nos 1090 articles). Donc, en moyenne un article est référencé 2.66 fois et en moyenne il référence à 2.66 articles. \n",
    "\n",
    "\n",
    "La valeur modale pour le nombre d'arc entrant et le nombre d'arcs sortant d'un article sont tous deux de zéro. Ceci concorde avec le remplissage très faible de la matrice d'adjacence (seulement 0.24%)."
   ]
  },
  {
   "cell_type": "code",
   "execution_count": 6,
   "metadata": {},
   "outputs": [
    {
     "data": {
      "text/html": [
       "'Nombre d\\'article référant à soit-même'"
      ],
      "text/latex": [
       "'Nombre d\\textbackslash{}'article référant à soit-même'"
      ],
      "text/markdown": [
       "'Nombre d\\'article référant à soit-même'"
      ],
      "text/plain": [
       "[1] \"Nombre d'article référant à soit-même\""
      ]
     },
     "metadata": {},
     "output_type": "display_data"
    },
    {
     "data": {
      "text/html": [
       "61"
      ],
      "text/latex": [
       "61"
      ],
      "text/markdown": [
       "61"
      ],
      "text/plain": [
       "[1] 61"
      ]
     },
     "metadata": {},
     "output_type": "display_data"
    },
    {
     "data": {
      "text/html": [
       "<span style=white-space:pre-wrap>'Nombre d\\'articles possédant aucune références:  351'</span>"
      ],
      "text/latex": [
       "'Nombre d\\textbackslash{}'articles possédant aucune références:  351'"
      ],
      "text/markdown": [
       "<span style=white-space:pre-wrap>'Nombre d\\'articles possédant aucune références:  351'</span>"
      ],
      "text/plain": [
       "[1] \"Nombre d'articles possédant aucune références:  351\""
      ]
     },
     "metadata": {},
     "output_type": "display_data"
    },
    {
     "data": {
      "text/html": [
       "<span style=white-space:pre-wrap>'Ceci représente  32.2018348623853 % de la base de données'</span>"
      ],
      "text/latex": [
       "'Ceci représente  32.2018348623853 \\% de la base de données'"
      ],
      "text/markdown": [
       "<span style=white-space:pre-wrap>'Ceci représente  32.2018348623853 % de la base de données'</span>"
      ],
      "text/plain": [
       "[1] \"Ceci représente  32.2018348623853 % de la base de données\""
      ]
     },
     "metadata": {},
     "output_type": "display_data"
    },
    {
     "data": {
      "image/png": "[encoded data removed]",
      "text/plain": [
       "plot without title"
      ]
     },
     "metadata": {},
     "output_type": "display_data"
    }
   ],
   "source": [
    "# Visualisation des référencements\n",
    "ggnet2(m, node.size = 0.1, node.color = \"black\", edge.size = 0.01, edge.color = \"grey\")\n",
    "\n",
    "# Nombre d'article référant à eux-même (éléments diagnonaux non-nul dans la matrice d'adjacence)\n",
    "paste(\"Nombre d'article référant à soit-même\")\n",
    "sum(diag(as.matrix(m)))\n",
    "\n",
    "# Nombre d'articles possédant zéro références\n",
    "nb_aucune_ref <- sum(ref_out==0)\n",
    "paste(\"Nombre d'articles possédant aucune références: \", nb_aucune_ref)\n",
    "paste(\"Ceci représente \", 100*nb_aucune_ref/nb_ligne, \"% de la base de données\")"
   ]
  },
  {
   "cell_type": "code",
   "execution_count": 7,
   "metadata": {},
   "outputs": [
    {
     "data": {
      "text/html": [
       "<ol class=list-inline>\n",
       "\t<li>0</li>\n",
       "\t<li>1</li>\n",
       "</ol>\n"
      ],
      "text/latex": [
       "\\begin{enumerate*}\n",
       "\\item 0\n",
       "\\item 1\n",
       "\\end{enumerate*}\n"
      ],
      "text/markdown": [
       "1. 0\n",
       "2. 1\n",
       "\n",
       "\n"
      ],
      "text/plain": [
       "[1] 0 1"
      ]
     },
     "metadata": {},
     "output_type": "display_data"
    }
   ],
   "source": [
    "# Validation que la matrice m ne possède que des 0 et des 1\n",
    "unique(unlist(m))"
   ]
  },
  {
   "cell_type": "markdown",
   "metadata": {},
   "source": [
    "61 articles référent à eux-même dans notre base de données, ce qui semble assez étrange...\n",
    "\n",
    "351 articles ne possèdent aucunes références, ce qui fort probablement un artefact issue de la méthode de collection des articles. Cependant, cela démontre malgré tout de la qualité moindre de la base de données fournies (i.e. beaucoup d'information sont difficilement interprétable). \n",
    "\n",
    "Le figure ci-dessus est une représentation parmis d'autres du graphe décrit par notre matrice d'adjacence. On observe tout d'abord que le graphe n'est pas connexe. Ainsi, il n'existe pas un chemin de chaque article vers chacun des autres. Il est donc également impossible de créer de cycles eulériens ou hamiltoniens dans ce graphe.\n",
    "\n",
    "Il existe également plusieurs petites cliques isolées de trois ou quatres articles. Cela démontre que ces articles ce références tous entre-eux, donc potentiellement qu'ils sont *équivalent*, dans le sens qu'ils fournissent probablement le même type d'information au lecteur. Cependant, chronologiquemment, il est étrange d'avoir des cycles dans le graphe. \n",
    "\n",
    "Au centre du graphe ce trouve un grands nombres d'articles fortemment connectés. Il es fort probable que ceci soit un artefact issu de la méthodologie de collecte de données. Selon ce graphe, il semblerait que la personne ayant collectée les données soit partie d'un article et a ajouté graduellement tous les articles référencés par celui-ci et ainsi de suite (récursivement). De ce fait, lorsque l'on arrête la récursion, il est normale que les articles ajoutés à la fin contiennent peu d'arêtes. Il est fort probable que toutes les références des articles ajoutés en premier se retrouvent dans ce graphe alors que très peu de références des articles ajoutés en dernier ne se retrouvent dans ce graphe. "
   ]
  },
  {
   "cell_type": "markdown",
   "metadata": {},
   "source": [
    "## Réponses aux questions"
   ]
  },
  {
   "cell_type": "markdown",
   "metadata": {},
   "source": [
    "### Question 1: Appliquez l'algorithme Page Rank pour déterminer les autres lectures recommandées et une variante.\n",
    "Nous appliquons donc l'algorithme de PageRank sur l'ensemble de notre graphe, soit la matrice *m* d'adjacence de taille 1090 par 1090. Par la suite, nous allons extraire les valeur des Page Rank pour les premiers voisins de l'article mentionné (soit 422908). Nous définisson en premier lieu les voisins comme étant les articles référencés par l'article *422908*. \n",
    "\n",
    "On suggère donc comme prochaine lecture à un utilisateur lisant l'article *422908*, l'article référencés par *422908* qui est le *plus populaire*.\n",
    "\n",
    "\n",
    "Voici le titre et une courte description de l'article *422908*:\n",
    "\n",
    "- **Titre**: Symbolic Model Checking for Real-time Systems\n",
    "- **Description**: We describe finite-state programs over real-numbered time in a guardedcommandlanguage with real-valued clocks or, equivalently, as finite automata withreal-valued clocks. Model checking answers the question which states of a real-timeprogram satisfy a branching-time specification (given in an extension of CTL with clockvariables). We develop an algorithm that computes this set of states symbolically as afixpoint of a functional on state predicates, without constructing the state space.For this purpose, we introduce a -calculus on computation trees over real-numberedtime. Unfortunately, many standard program properties, such as response for allnonzeno execution sequences (during which time diverges), cannot be characterizedby fixpoints: we show that the expressiveness of the timed -calculus is incomparableto the expressiveness of timed CTL. Fortunately, this result does not impair thesymbolic verification of \"implementable\" real-time programs---those whose safety...\n",
    "\n",
    "\n",
    "\n",
    "\n",
    "Cette description va nous permettre de savoir si les articles que nous suggérons semblent adéquat (évaluation très subjective, mais mieux que de simplement avoir une confiance aveugle en l'algorithme PageRank). "
   ]
  },
  {
   "cell_type": "code",
   "execution_count": 5,
   "metadata": {},
   "outputs": [
    {
     "data": {
      "text/html": [
       "'Nombre d\\'articles sortant de 422908: 17'"
      ],
      "text/latex": [
       "'Nombre d\\textbackslash{}'articles sortant de 422908: 17'"
      ],
      "text/markdown": [
       "'Nombre d\\'articles sortant de 422908: 17'"
      ],
      "text/plain": [
       "[1] \"Nombre d'articles sortant de 422908: 17\""
      ]
     },
     "metadata": {},
     "output_type": "display_data"
    },
    {
     "data": {
      "text/html": [
       "'Noms des articles sortant de 422908:'"
      ],
      "text/latex": [
       "'Noms des articles sortant de 422908:'"
      ],
      "text/markdown": [
       "'Noms des articles sortant de 422908:'"
      ],
      "text/plain": [
       "[1] \"Noms des articles sortant de 422908:\""
      ]
     },
     "metadata": {},
     "output_type": "display_data"
    },
    {
     "data": {
      "text/html": [
       "<ol class=list-inline>\n",
       "\t<li>'110303'</li>\n",
       "\t<li>'124'</li>\n",
       "\t<li>'131548'</li>\n",
       "\t<li>'147460'</li>\n",
       "\t<li>'149673'</li>\n",
       "\t<li>'155792'</li>\n",
       "\t<li>'17094'</li>\n",
       "\t<li>'19422'</li>\n",
       "\t<li>'241538'</li>\n",
       "\t<li>'311874'</li>\n",
       "\t<li>'315693'</li>\n",
       "\t<li>'3170'</li>\n",
       "\t<li>'396568'</li>\n",
       "\t<li>'466838'</li>\n",
       "\t<li>'497542'</li>\n",
       "\t<li>'522428'</li>\n",
       "\t<li>'64835'</li>\n",
       "</ol>\n"
      ],
      "text/latex": [
       "\\begin{enumerate*}\n",
       "\\item '110303'\n",
       "\\item '124'\n",
       "\\item '131548'\n",
       "\\item '147460'\n",
       "\\item '149673'\n",
       "\\item '155792'\n",
       "\\item '17094'\n",
       "\\item '19422'\n",
       "\\item '241538'\n",
       "\\item '311874'\n",
       "\\item '315693'\n",
       "\\item '3170'\n",
       "\\item '396568'\n",
       "\\item '466838'\n",
       "\\item '497542'\n",
       "\\item '522428'\n",
       "\\item '64835'\n",
       "\\end{enumerate*}\n"
      ],
      "text/markdown": [
       "1. '110303'\n",
       "2. '124'\n",
       "3. '131548'\n",
       "4. '147460'\n",
       "5. '149673'\n",
       "6. '155792'\n",
       "7. '17094'\n",
       "8. '19422'\n",
       "9. '241538'\n",
       "10. '311874'\n",
       "11. '315693'\n",
       "12. '3170'\n",
       "13. '396568'\n",
       "14. '466838'\n",
       "15. '497542'\n",
       "16. '522428'\n",
       "17. '64835'\n",
       "\n",
       "\n"
      ],
      "text/plain": [
       " [1] \"110303\" \"124\"    \"131548\" \"147460\" \"149673\" \"155792\" \"17094\"  \"19422\" \n",
       " [9] \"241538\" \"311874\" \"315693\" \"3170\"   \"396568\" \"466838\" \"497542\" \"522428\"\n",
       "[17] \"64835\" "
      ]
     },
     "metadata": {},
     "output_type": "display_data"
    },
    {
     "name": "stdout",
     "output_type": "stream",
     "text": [
      "\n"
     ]
    },
    {
     "data": {
      "text/html": [
       "'Nombre d\\'arcticles entrant dans 422908: 46'"
      ],
      "text/latex": [
       "'Nombre d\\textbackslash{}'arcticles entrant dans 422908: 46'"
      ],
      "text/markdown": [
       "'Nombre d\\'arcticles entrant dans 422908: 46'"
      ],
      "text/plain": [
       "[1] \"Nombre d'arcticles entrant dans 422908: 46\""
      ]
     },
     "metadata": {},
     "output_type": "display_data"
    },
    {
     "data": {
      "text/html": [
       "'Noms des articles entrant de 422908:'"
      ],
      "text/latex": [
       "'Noms des articles entrant de 422908:'"
      ],
      "text/markdown": [
       "'Noms des articles entrant de 422908:'"
      ],
      "text/plain": [
       "[1] \"Noms des articles entrant de 422908:\""
      ]
     },
     "metadata": {},
     "output_type": "display_data"
    },
    {
     "data": {
      "text/html": [
       "<ol class=list-inline>\n",
       "\t<li>'10302'</li>\n",
       "\t<li>'106034'</li>\n",
       "\t<li>'120172'</li>\n",
       "\t<li>'124'</li>\n",
       "\t<li>'125089'</li>\n",
       "\t<li>'131548'</li>\n",
       "\t<li>'136975'</li>\n",
       "\t<li>'139134'</li>\n",
       "\t<li>'147460'</li>\n",
       "\t<li>'156791'</li>\n",
       "\t<li>'167226'</li>\n",
       "\t<li>'17507'</li>\n",
       "\t<li>'177173'</li>\n",
       "\t<li>'181463'</li>\n",
       "\t<li>'182742'</li>\n",
       "\t<li>'226359'</li>\n",
       "\t<li>'26170'</li>\n",
       "\t<li>'28323'</li>\n",
       "\t<li>'289188'</li>\n",
       "\t<li>'297641'</li>\n",
       "\t<li>'304747'</li>\n",
       "\t<li>'3170'</li>\n",
       "\t<li>'3175'</li>\n",
       "\t<li>'322240'</li>\n",
       "\t<li>'34792'</li>\n",
       "\t<li>'366858'</li>\n",
       "\t<li>'392298'</li>\n",
       "\t<li>'3950'</li>\n",
       "\t<li>'395364'</li>\n",
       "\t<li>'464834'</li>\n",
       "\t<li>'468667'</li>\n",
       "\t<li>'496938'</li>\n",
       "\t<li>'497542'</li>\n",
       "\t<li>'64835'</li>\n",
       "\t<li>'6497'</li>\n",
       "\t<li>'66285'</li>\n",
       "\t<li>'66291'</li>\n",
       "\t<li>'7099'</li>\n",
       "\t<li>'7624'</li>\n",
       "\t<li>'78418'</li>\n",
       "\t<li>'79188'</li>\n",
       "\t<li>'83263'</li>\n",
       "\t<li>'83509'</li>\n",
       "\t<li>'83730'</li>\n",
       "\t<li>'96767'</li>\n",
       "\t<li>'98185'</li>\n",
       "</ol>\n"
      ],
      "text/latex": [
       "\\begin{enumerate*}\n",
       "\\item '10302'\n",
       "\\item '106034'\n",
       "\\item '120172'\n",
       "\\item '124'\n",
       "\\item '125089'\n",
       "\\item '131548'\n",
       "\\item '136975'\n",
       "\\item '139134'\n",
       "\\item '147460'\n",
       "\\item '156791'\n",
       "\\item '167226'\n",
       "\\item '17507'\n",
       "\\item '177173'\n",
       "\\item '181463'\n",
       "\\item '182742'\n",
       "\\item '226359'\n",
       "\\item '26170'\n",
       "\\item '28323'\n",
       "\\item '289188'\n",
       "\\item '297641'\n",
       "\\item '304747'\n",
       "\\item '3170'\n",
       "\\item '3175'\n",
       "\\item '322240'\n",
       "\\item '34792'\n",
       "\\item '366858'\n",
       "\\item '392298'\n",
       "\\item '3950'\n",
       "\\item '395364'\n",
       "\\item '464834'\n",
       "\\item '468667'\n",
       "\\item '496938'\n",
       "\\item '497542'\n",
       "\\item '64835'\n",
       "\\item '6497'\n",
       "\\item '66285'\n",
       "\\item '66291'\n",
       "\\item '7099'\n",
       "\\item '7624'\n",
       "\\item '78418'\n",
       "\\item '79188'\n",
       "\\item '83263'\n",
       "\\item '83509'\n",
       "\\item '83730'\n",
       "\\item '96767'\n",
       "\\item '98185'\n",
       "\\end{enumerate*}\n"
      ],
      "text/markdown": [
       "1. '10302'\n",
       "2. '106034'\n",
       "3. '120172'\n",
       "4. '124'\n",
       "5. '125089'\n",
       "6. '131548'\n",
       "7. '136975'\n",
       "8. '139134'\n",
       "9. '147460'\n",
       "10. '156791'\n",
       "11. '167226'\n",
       "12. '17507'\n",
       "13. '177173'\n",
       "14. '181463'\n",
       "15. '182742'\n",
       "16. '226359'\n",
       "17. '26170'\n",
       "18. '28323'\n",
       "19. '289188'\n",
       "20. '297641'\n",
       "21. '304747'\n",
       "22. '3170'\n",
       "23. '3175'\n",
       "24. '322240'\n",
       "25. '34792'\n",
       "26. '366858'\n",
       "27. '392298'\n",
       "28. '3950'\n",
       "29. '395364'\n",
       "30. '464834'\n",
       "31. '468667'\n",
       "32. '496938'\n",
       "33. '497542'\n",
       "34. '64835'\n",
       "35. '6497'\n",
       "36. '66285'\n",
       "37. '66291'\n",
       "38. '7099'\n",
       "39. '7624'\n",
       "40. '78418'\n",
       "41. '79188'\n",
       "42. '83263'\n",
       "43. '83509'\n",
       "44. '83730'\n",
       "45. '96767'\n",
       "46. '98185'\n",
       "\n",
       "\n"
      ],
      "text/plain": [
       " [1] \"10302\"  \"106034\" \"120172\" \"124\"    \"125089\" \"131548\" \"136975\" \"139134\"\n",
       " [9] \"147460\" \"156791\" \"167226\" \"17507\"  \"177173\" \"181463\" \"182742\" \"226359\"\n",
       "[17] \"26170\"  \"28323\"  \"289188\" \"297641\" \"304747\" \"3170\"   \"3175\"   \"322240\"\n",
       "[25] \"34792\"  \"366858\" \"392298\" \"3950\"   \"395364\" \"464834\" \"468667\" \"496938\"\n",
       "[33] \"497542\" \"64835\"  \"6497\"   \"66285\"  \"66291\"  \"7099\"   \"7624\"   \"78418\" \n",
       "[41] \"79188\"  \"83263\"  \"83509\"  \"83730\"  \"96767\"  \"98185\" "
      ]
     },
     "metadata": {},
     "output_type": "display_data"
    }
   ],
   "source": [
    "# Nombre d'arcs sortant de 422908 (articles référés par 422908)\n",
    "paste(\"Nombre d'articles sortant de 422908:\",ref_out['422908'])\n",
    "\n",
    "# Noms des articles sortant de 422908\n",
    "paste(\"Noms des articles sortant de 422908:\")\n",
    "articles[which(m['422908',]==1)]\n",
    "\n",
    "# Nombre d'arcs entrant dans 422908 (articles référant à 422908)\n",
    "cat(\"\\n\")\n",
    "paste(\"Nombre d'arcticles entrant dans 422908:\",ref_in['X422908'])\n",
    "# Noms des articles entrant de 422908\n",
    "paste(\"Noms des articles entrant de 422908:\")\n",
    "articles[which(m[,'X422908']==1)]"
   ]
  },
  {
   "cell_type": "markdown",
   "metadata": {},
   "source": [
    "Il y a donc 17 arcs sortant de 422908 et 46 liens entrant dans 422908."
   ]
  },
  {
   "cell_type": "markdown",
   "metadata": {},
   "source": [
    "Appliquons Page Rank en initialisant la valeur de chaque article à 1. On initialise le facteur d'amortissement à 0.85 et on ne considère comme premier voisin que les arcs sortant de 422908.\n",
    "\n",
    "À chaque itération, nous conservons les valeurs des PageRank. Ainsi, nous allons pouvoir observer la convergence de l'ordonnacement des articles et également observer la convergence de la somme des PageRank. Puisque nous divisons par le nombre de sommets contenus dans le graphe (soit 1090), la somme des Page Rank devraient converger vers 1. Par contre, pour éviter de diviser par zéro, nous ajoutons plus 1 au dénominateur (représentant le nombre de liens sortant) dans l'algorithme de PageRank. Ainsi, la somme ne convergera pas vers 1, mais vers un nombre un peu plus petit que un (dans notre cas, environ 0.25). "
   ]
  },
  {
   "cell_type": "code",
   "execution_count": 5,
   "metadata": {},
   "outputs": [
    {
     "data": {
      "text/html": [
       "'Quartiles des PageRank: '"
      ],
      "text/latex": [
       "'Quartiles des PageRank: '"
      ],
      "text/markdown": [
       "'Quartiles des PageRank: '"
      ],
      "text/plain": [
       "[1] \"Quartiles des PageRank: \""
      ]
     },
     "metadata": {},
     "output_type": "display_data"
    },
    {
     "data": {
      "text/plain": [
       "       V1           \n",
       " Min.   :0.0001376  \n",
       " 1st Qu.:0.0001376  \n",
       " Median :0.0001616  \n",
       " Mean   :0.0002309  \n",
       " 3rd Qu.:0.0002252  \n",
       " Max.   :0.0073901  "
      ]
     },
     "metadata": {},
     "output_type": "display_data"
    }
   ],
   "source": [
    "# Initialisation\n",
    "remove(pr)\n",
    "pr <- rep(1,nb_ligne)\n",
    "d <- 0.85\n",
    "nb_iteration <- 50\n",
    "iteration <-seq(nb_iteration)\n",
    "pr_matrice <- matrix( rep( 0, len=nb_ligne*nb_iteration), nrow = nb_iteration)\n",
    "\n",
    "\n",
    "# Itérations de l'algorithme PageRank\n",
    "for (i in iteration){\n",
    "    pr <- (1-d)/nb_ligne + (d * (t(m) %*% (pr/(rowSums(m)+1))))\n",
    "    pr_matrice[i,]<-pr\n",
    "}\n",
    "paste(\"Quartiles des PageRank: \")\n",
    "summary(pr)"
   ]
  },
  {
   "cell_type": "markdown",
   "metadata": {},
   "source": [
    "Assurons-nous d'avoir atteint la convergence de l'algorithme en explorant la matrice *pr_matrice* qui contient les résultats de chacune des itérations. Pour savoir si nous avons fait assez d'itérations, nous devons avoir converger vers un ordonnancement des pages (*Page Ranking*). De plus, à convergence, la somme du vecteur de PageRank devrait se stabiliser. \n",
    "\n",
    "Puisque le minimum des PageRank est égal à la valeur du premier quartile, nous pouvons en déduire que le premier quart des valeurs de PageRank sont toutes de 0.0001376. "
   ]
  },
  {
   "cell_type": "code",
   "execution_count": 7,
   "metadata": {},
   "outputs": [
    {
     "data": {
      "image/png": "[encoded data removed]",
      "text/plain": [
       "Plot with title \"Somme des PageRank à chaque itération\""
      ]
     },
     "metadata": {},
     "output_type": "display_data"
    }
   ],
   "source": [
    "somme_pr <- rowSums(pr_matrice)\n",
    "plot(iteration, somme_pr,\n",
    "    main=\"Somme des PageRank à chaque itération\",\n",
    "    xlab=\"Itération\",\n",
    "    ylab=\"Somme des PageRank\")"
   ]
  },
  {
   "cell_type": "code",
   "execution_count": 8,
   "metadata": {},
   "outputs": [
    {
     "name": "stdout",
     "output_type": "stream",
     "text": [
      " [1] 547 295 408 916 747 494 675 232 766 344 720 415 749 998 551\n",
      " [1] 547 295 363 312 945 232 494 747 985 916 889 415 184 954 961\n",
      " [1] 547 295 232 312 985 363 411 494 184 945 961 747 889 954 557\n",
      " [1] 547 985 232 295 312 184 961 363 557 411 889 723 747 432 494\n",
      " [1] 985 232 547 184 961 295 557 312 723 854 889 432  41 169 747\n",
      " [1] 985 232 184 961 547 557 723 854 295  41 169 889 312 747 432\n",
      " [1] 985 232 184 961 557 723  41 169 547 854 889 295 747 710 168\n",
      " [1] 985 232 184 961 557 723  41 169 889 747 710 547 854 168 758\n",
      " [1]  985  232  184  961  557  723   41  169  889  710  747  168  547  758 1081\n",
      " [1]  985  232  184  961  557  723   41  169  889  747  710  168  547  758 1081\n",
      " [1] 232 985 184 961 557 723  41 169 889 547 747 710 168 295 758\n",
      " [1] 232 985 184 961 557 723 547  41 169 889 747 295 710 168 758\n",
      " [1] 232 985 184 961 547 557 723 295  41 169 889 747 710 168 758\n",
      " [1]  232  985  547  184  961  295  557  723   41  747  169  889  710  168 1081\n",
      " [1] 547 232 985 295 184 961 557 723 747  41 889 169 710 312 363\n",
      " [1] 547 295 232 985 184 961 747 557 723 889  41 312 363 494 408\n",
      " [1] 547 295 232 985 184 961 747 312 494 363 557 408 723 889 945\n",
      " [1] 547 295 232 985 184 747 961 312 494 408 363 945 889 557 723\n",
      " [1] 547 295 232 985 747 494 312 408 184 363 961 945 889 916 557\n",
      " [1] 547 295 232 985 747 494 408 312 363 184 961 945 916 889 557\n",
      " [1] 547 295 232 985 747 494 408 312 363 184 945 961 916 889 557\n",
      " [1] 547 295 232 985 747 494 408 312 363 945 184 961 916 889 557\n",
      " [1] 547 295 232 747 985 494 408 312 363 945 184 916 961 889 557\n",
      " [1] 547 295 232 747 985 494 408 312 363 945 184 916 961 889 557\n",
      " [1] 547 295 232 747 985 494 408 312 363 945 184 916 961 889 415\n",
      " [1] 547 295 232 747 494 985 408 312 363 945 184 916 961 889 415\n",
      " [1] 547 295 232 747 494 985 408 312 363 945 184 916 961 889 415\n",
      " [1] 547 295 232 747 494 985 408 312 363 945 184 916 961 889 415\n",
      " [1] 547 295 232 747 494 408 985 312 363 945 184 916 961 889 415\n",
      " [1] 547 295 232 747 494 408 985 312 363 945 184 916 961 889 415\n",
      " [1] 547 295 232 747 494 408 985 312 363 945 184 916 961 889 415\n",
      " [1] 547 295 232 747 494 408 985 312 363 945 184 916 961 889 415\n",
      " [1] 547 295 232 747 494 408 985 312 363 945 184 916 961 889 415\n",
      " [1] 547 295 232 747 494 408 985 312 363 945 184 916 961 889 415\n",
      " [1] 547 295 232 747 494 408 985 312 363 945 184 916 961 889 415\n",
      " [1] 547 295 232 747 494 408 985 312 363 945 184 916 961 889 415\n",
      " [1] 547 295 232 747 494 408 985 312 363 945 184 916 961 889 415\n",
      " [1] 547 295 232 747 494 408 985 312 363 945 184 916 961 889 415\n",
      " [1] 547 295 232 747 494 408 985 312 363 945 184 916 961 889 415\n",
      " [1] 547 295 232 747 494 408 985 312 363 945 184 916 961 889 415\n",
      " [1] 547 295 232 747 494 408 985 312 363 945 184 916 961 889 415\n",
      " [1] 547 295 232 747 494 408 985 312 363 945 184 916 961 889 415\n",
      " [1] 547 295 232 747 494 408 985 312 363 945 184 916 961 889 415\n",
      " [1] 547 295 232 747 494 408 985 312 363 945 184 916 961 889 415\n",
      " [1] 547 295 232 747 494 408 985 312 363 945 184 916 961 889 415\n",
      " [1] 547 295 232 747 494 408 985 312 363 945 184 916 961 889 415\n",
      " [1] 547 295 232 747 494 408 985 312 363 945 184 916 961 889 415\n",
      " [1] 547 295 232 747 494 408 985 312 363 945 184 916 961 889 415\n",
      " [1] 547 295 232 747 494 408 985 312 363 945 184 916 961 889 415\n",
      " [1] 547 295 232 747 494 408 985 312 363 945 184 916 961 889 415\n"
     ]
    }
   ],
   "source": [
    "# On regarde si pour les dernières itérations, l'ordonnancement a convergé\n",
    "# On présente ici les index des articles (donc entre 1 et 1090)\n",
    "# Ceci est l'ordonnancement des 1090 articles (pas seulement les voisins de 422908)\n",
    "for (i in iteration){\n",
    "print(max.nindex(pr_matrice[i,],15))\n",
    "    }"
   ]
  },
  {
   "cell_type": "markdown",
   "metadata": {},
   "source": [
    "Nous semblons donc avoir convergé dès l'itération 20 environ. On remarque également que beaucoup des 17 articles référés par l'article *422908* se retrouve dans les top PageRank (lorsque l'on regarde l'entièreté des 1090 valeurs de PageRank)."
   ]
  },
  {
   "cell_type": "code",
   "execution_count": 6,
   "metadata": {},
   "outputs": [
    {
     "name": "stdout",
     "output_type": "stream",
     "text": [
      "\n"
     ]
    },
    {
     "data": {
      "text/html": [
       "'Références de 422908 classées en ordre de recommendation (les plus pertinentes étant en premier)'"
      ],
      "text/latex": [
       "'Références de 422908 classées en ordre de recommendation (les plus pertinentes étant en premier)'"
      ],
      "text/markdown": [
       "'Références de 422908 classées en ordre de recommendation (les plus pertinentes étant en premier)'"
      ],
      "text/plain": [
       "[1] \"Références de 422908 classées en ordre de recommendation (les plus pertinentes étant en premier)\""
      ]
     },
     "metadata": {},
     "output_type": "display_data"
    },
    {
     "data": {
      "text/html": [
       "<table>\n",
       "<thead><tr><th></th><th scope=col>index_voisin1_out</th><th scope=col>articles_voisin1_out</th><th scope=col>pr_voisin1_out</th></tr></thead>\n",
       "<tbody>\n",
       "\t<tr><th scope=row>10</th><td>547        </td><td>311874     </td><td>0.007390081</td></tr>\n",
       "\t<tr><th scope=row>8</th><td>295        </td><td>19422      </td><td>0.004107933</td></tr>\n",
       "\t<tr><th scope=row>7</th><td>232        </td><td>17094      </td><td>0.001943729</td></tr>\n",
       "\t<tr><th scope=row>6</th><td>184        </td><td>155792     </td><td>0.001227710</td></tr>\n",
       "\t<tr><th scope=row>17</th><td>961        </td><td>64835      </td><td>0.001172779</td></tr>\n",
       "\t<tr><th scope=row>16</th><td>889        </td><td>522428     </td><td>0.001104272</td></tr>\n",
       "</tbody>\n",
       "</table>\n"
      ],
      "text/latex": [
       "\\begin{tabular}{r|lll}\n",
       "  & index\\_voisin1\\_out & articles\\_voisin1\\_out & pr\\_voisin1\\_out\\\\\n",
       "\\hline\n",
       "\t10 & 547         & 311874      & 0.007390081\\\\\n",
       "\t8 & 295         & 19422       & 0.004107933\\\\\n",
       "\t7 & 232         & 17094       & 0.001943729\\\\\n",
       "\t6 & 184         & 155792      & 0.001227710\\\\\n",
       "\t17 & 961         & 64835       & 0.001172779\\\\\n",
       "\t16 & 889         & 522428      & 0.001104272\\\\\n",
       "\\end{tabular}\n"
      ],
      "text/markdown": [
       "\n",
       "| <!--/--> | index_voisin1_out | articles_voisin1_out | pr_voisin1_out |\n",
       "|---|---|---|---|\n",
       "| 10 | 547         | 311874      | 0.007390081 |\n",
       "| 8 | 295         | 19422       | 0.004107933 |\n",
       "| 7 | 232         | 17094       | 0.001943729 |\n",
       "| 6 | 184         | 155792      | 0.001227710 |\n",
       "| 17 | 961         | 64835       | 0.001172779 |\n",
       "| 16 | 889         | 522428      | 0.001104272 |\n",
       "\n"
      ],
      "text/plain": [
       "   index_voisin1_out articles_voisin1_out pr_voisin1_out\n",
       "10 547               311874               0.007390081   \n",
       "8  295               19422                0.004107933   \n",
       "7  232               17094                0.001943729   \n",
       "6  184               155792               0.001227710   \n",
       "17 961               64835                0.001172779   \n",
       "16 889               522428               0.001104272   "
      ]
     },
     "metadata": {},
     "output_type": "display_data"
    },
    {
     "data": {
      "text/html": [
       "'Quartiles des PageRank des voisins sortant de 422908'"
      ],
      "text/latex": [
       "'Quartiles des PageRank des voisins sortant de 422908'"
      ],
      "text/markdown": [
       "'Quartiles des PageRank des voisins sortant de 422908'"
      ],
      "text/plain": [
       "[1] \"Quartiles des PageRank des voisins sortant de 422908\""
      ]
     },
     "metadata": {},
     "output_type": "display_data"
    },
    {
     "data": {
      "text/plain": [
       "     Min.   1st Qu.    Median      Mean   3rd Qu.      Max. \n",
       "0.0002120 0.0004821 0.0008514 0.0013689 0.0011728 0.0073901 "
      ]
     },
     "metadata": {},
     "output_type": "display_data"
    }
   ],
   "source": [
    "# On extrait les valeurs des PageRank des articles que 422908 réfère\n",
    "index_voisin1_out<-which((m['422908',]==1)==TRUE)\n",
    "pr_voisin1_out <- pr[index_voisin1_out]\n",
    "articles_voisin1_out <- articles[index_voisin1_out]\n",
    "\n",
    "# On stock le tout dans un dataframe et on tri en ordre décroissant selon la PageRank\n",
    "df_voisin1_out <- data.frame(index_voisin1_out,articles_voisin1_out, pr_voisin1_out)\n",
    "df_voisin1_out <- df_voisin1_out[with(df_voisin1_out, order(pr_voisin1_out, decreasing=TRUE)),]\n",
    "cat(\"\\n\")\n",
    "paste(\"Références de 422908 classées en ordre de recommendation (les plus pertinentes étant en premier)\")\n",
    "head(df_voisin1_out)\n",
    "paste(\"Quartiles des PageRank des voisins sortant de 422908\")\n",
    "(summary(df_voisin1_out[,\"pr_voisin1_out\"]))"
   ]
  },
  {
   "cell_type": "markdown",
   "metadata": {},
   "source": [
    "**Clarification des noms de colonnes dans le dataframe présentant les résultats**: \n",
    "\n",
    "- La colonne *index_voisin1_out* contient la position (entre 1 et 1090) de l'article dans le vecteur *articles*.\n",
    "\n",
    "- La colonne *articles_voisin1_out* contient la valeur de l'élément à la position *index_voisin1_out* dans le vecteur *articles*.\n",
    "\n",
    "- La colonne *pr_voisin1_out* contient la valeur du PageRank de cet article.\n",
    "\n",
    "\n",
    "\n",
    "\n",
    "Tous les articles de ce dataframe sont des articles qui sont référés par *422908* (d'où l'appelation *out*).\n",
    "\n",
    "Donc, selon la méthodologie que nous venons de mettre de l'avant, nous pouvons suggérer à un utilisateur un article populaire présent dans la liste des références de l'article qu'il lit actuellement (soit l'article *422908*). Si nous avions 3 suggestions à lui faire, elles seraient les articles numéros *311874*, *19422* et *17094*. Voici les titres et descriptions de ces articles: \n",
    "\n",
    "- **311874**:\n",
    "    - *Titre*:**Graph-Based Algorithms for Boolean Function Manipulation**\n",
    "    - *Description*: In this paper we present a new data structure for representing Boolean functions and an associated set of manipulation algorithms. Functions are represented by directed, acyclic graphs in a manner similar to the representations introduced by Lee [1] and Akers [2], but with further restrictions on the ordering of decision variables in the graph. Although a function requires, in the worst case, a graph of size exponential in the number of arguments, many of the functions encountered in typical applications have a more reasonable representation. Our algorithms have time complexity proportional to the sizes of the graphs being operated on, and hence are quite efficient as long as the graphs do not grow too large. We present experimental results from applying these algorithms to problems in logic design verification that demonstrate the practicality of our approach. Index Terms: Boolean functions, symbolic manipulation, binary decision diagrams, logic design verification 1.\n",
    "    \n",
    "    \n",
    "\n",
    "- **19422**:\n",
    "    - *Titre*: **Symbolic Model Checking: 10 20 States and Beyond**\n",
    "    - *Description*: Many different methods have been devised for automatically verifyingfinite state systems by examining state-graph models of systembehavior. These methods all depend on decision procedures that explicitlyrepresent the state space using a list or a table that grows inproportion to the number of states. We describe a general method thatrepresents the state space symbolically instead of explicitly. The generalityof our method comes from using a dialect of the Mu-Calculus asthe primary specification language. We describe a model checking algorithmfor Mu-Calculus formulas that uses Bryant's Binary DecisionDiagrams (1986) to represent relations and formulas. We then showhow our new Mu-Calculus model checking algorithm can be used to deriveefficient decision procedures for CTL model checking, satisfiabilityof linear-time temporal logic formulas, strong and weak observationalequivalence of finite transition systems, and language containment forfinite !-automata.\n",
    "    \n",
    "    \n",
    "    \n",
    "- **17094**:\n",
    "    - *Titre*: **A Really Temporal Logic**\n",
    "    - *Description*: We introduce a temporal logic for the specification of real-time systems.Our logic, TPTL, employs a novel quantifier construct for referencing time: the freezequantifier binds a variable to the time of the local temporal context. TPTL is both anatural language for specification and a suitable formalism for verification. We presenta tableau-based decision procedure and a model checking algorithm for TPTL. Severalgeneralizations of TPTL are shown to be highly undecidable.1 IntroductionLinear temporal logic is a widely accepted language for specifying properties of reactive systemsand their behavior over time [Pnu77, OL82, MP92]. The tableau-based satisfiability algorithmfor its propositional version, PTL, forms the basis for the automatic verification and synthesis offinite-state systems [LP84, MW84].PTL is interpreted over models that abstract away from the actual times at which eventsoccur, retaining only temporal ordering information about the states of a system."
   ]
  },
  {
   "cell_type": "markdown",
   "metadata": {},
   "source": [
    "Il est également intéressant d'inclure dans les articles à retenir pour la suggestion, les articles représentant des arcs entrant dans *422908*. Nous n'avons pas besoin de recalculer le PageRank de chaque page, mais simplement de changer notre filtre (au lieu de prendre seulement les articles dans la lignes de l'article *422908* comme suggestions possibles, nous incluant également les articles dont la valeur est non-nulle dans la colonne *422908* de la matrice d'adjacence). \n",
    "\n",
    "Nous étendons nos possibilités de 17 articles à 17+46=63 articles. Il est possible que les trois même suggestions d'article se retrouvent quand même avec les PageRank les plus élevé."
   ]
  },
  {
   "cell_type": "code",
   "execution_count": 7,
   "metadata": {},
   "outputs": [
    {
     "data": {
      "text/html": [
       "'Référant de 422908 classés en ordre de recommendation (les plus pertinents étant en premier)'"
      ],
      "text/latex": [
       "'Référant de 422908 classés en ordre de recommendation (les plus pertinents étant en premier)'"
      ],
      "text/markdown": [
       "'Référant de 422908 classés en ordre de recommendation (les plus pertinents étant en premier)'"
      ],
      "text/plain": [
       "[1] \"Référant de 422908 classés en ordre de recommendation (les plus pertinents étant en premier)\""
      ]
     },
     "metadata": {},
     "output_type": "display_data"
    },
    {
     "data": {
      "text/html": [
       "<table>\n",
       "<thead><tr><th></th><th scope=col>index_voisin1_in</th><th scope=col>articles_voisin1_in</th><th scope=col>pr_voisin1_in</th></tr></thead>\n",
       "<tbody>\n",
       "\t<tr><th scope=row>34</th><td> 961        </td><td>64835       </td><td>0.0011727795</td></tr>\n",
       "\t<tr><th scope=row>45</th><td>1081        </td><td>96767       </td><td>0.0007059540</td></tr>\n",
       "\t<tr><th scope=row>6</th><td> 113        </td><td>131548      </td><td>0.0005526332</td></tr>\n",
       "\t<tr><th scope=row>9</th><td> 162        </td><td>147460      </td><td>0.0005513630</td></tr>\n",
       "\t<tr><th scope=row>33</th><td> 859        </td><td>497542      </td><td>0.0004937419</td></tr>\n",
       "\t<tr><th scope=row>12</th><td> 238        </td><td>17507       </td><td>0.0004829323</td></tr>\n",
       "</tbody>\n",
       "</table>\n"
      ],
      "text/latex": [
       "\\begin{tabular}{r|lll}\n",
       "  & index\\_voisin1\\_in & articles\\_voisin1\\_in & pr\\_voisin1\\_in\\\\\n",
       "\\hline\n",
       "\t34 &  961         & 64835        & 0.0011727795\\\\\n",
       "\t45 & 1081         & 96767        & 0.0007059540\\\\\n",
       "\t6 &  113         & 131548       & 0.0005526332\\\\\n",
       "\t9 &  162         & 147460       & 0.0005513630\\\\\n",
       "\t33 &  859         & 497542       & 0.0004937419\\\\\n",
       "\t12 &  238         & 17507        & 0.0004829323\\\\\n",
       "\\end{tabular}\n"
      ],
      "text/markdown": [
       "\n",
       "| <!--/--> | index_voisin1_in | articles_voisin1_in | pr_voisin1_in |\n",
       "|---|---|---|---|\n",
       "| 34 |  961         | 64835        | 0.0011727795 |\n",
       "| 45 | 1081         | 96767        | 0.0007059540 |\n",
       "| 6 |  113         | 131548       | 0.0005526332 |\n",
       "| 9 |  162         | 147460       | 0.0005513630 |\n",
       "| 33 |  859         | 497542       | 0.0004937419 |\n",
       "| 12 |  238         | 17507        | 0.0004829323 |\n",
       "\n"
      ],
      "text/plain": [
       "   index_voisin1_in articles_voisin1_in pr_voisin1_in\n",
       "34  961             64835               0.0011727795 \n",
       "45 1081             96767               0.0007059540 \n",
       "6   113             131548              0.0005526332 \n",
       "9   162             147460              0.0005513630 \n",
       "33  859             497542              0.0004937419 \n",
       "12  238             17507               0.0004829323 "
      ]
     },
     "metadata": {},
     "output_type": "display_data"
    },
    {
     "data": {
      "text/html": [
       "'Quartiles des PageRank des voisins entrant de 422908'"
      ],
      "text/latex": [
       "'Quartiles des PageRank des voisins entrant de 422908'"
      ],
      "text/markdown": [
       "'Quartiles des PageRank des voisins entrant de 422908'"
      ],
      "text/plain": [
       "[1] \"Quartiles des PageRank des voisins entrant de 422908\""
      ]
     },
     "metadata": {},
     "output_type": "display_data"
    },
    {
     "data": {
      "text/plain": [
       "     Min.   1st Qu.    Median      Mean   3rd Qu.      Max. \n",
       "0.0001376 0.0001540 0.0002048 0.0002835 0.0003530 0.0011728 "
      ]
     },
     "metadata": {},
     "output_type": "display_data"
    }
   ],
   "source": [
    "# On extrait les valeurs des PageRank des articles qui réfèrent à 422908\n",
    "index_voisin1_in<-which((m[,'X422908']==1)==TRUE)\n",
    "pr_voisin1_in <- pr[index_voisin1_in]\n",
    "articles_voisin1_in <- articles[index_voisin1_in]\n",
    "\n",
    "# On stock le tout dans un dataframe et on tri en ordre décroissant selon la PageRank\n",
    "df_voisin1_in <- data.frame(index_voisin1_in,articles_voisin1_in, pr_voisin1_in)\n",
    "df_voisin1_in <- df_voisin1_in[with(df_voisin1_in, order(pr_voisin1_in, decreasing=TRUE)),]\n",
    "paste(\"Référant de 422908 classés en ordre de recommendation (les plus pertinents étant en premier)\")\n",
    "head(df_voisin1_in)\n",
    "paste(\"Quartiles des PageRank des voisins entrant de 422908\")\n",
    "(summary(df_voisin1_in[,\"pr_voisin1_in\"]))"
   ]
  },
  {
   "cell_type": "markdown",
   "metadata": {},
   "source": [
    "En moyenne, les premiers voisins sortant de l'article *422908* ont une valeur de PageRank de 0.0013689.\n",
    "En moyenne, les premiers voisins entrant de l'article *422908* ont une valeur de PageRank de 0.0002835.\n",
    "\n",
    "Les arcs sorant de *422908* semble donc être en moyenne plus populaires que les liens entrant de *422908*. \n",
    "\n",
    "Si nous avions à suggérer des articles à lire parmis ceux qui référence l'article *422908*, nous suggérons: \n",
    "\n",
    "\n",
    "- **64835**\n",
    "\n",
    "- **96767**\n",
    "\n",
    "- **131548**\n",
    "\n",
    "\n",
    "**Il nous est impossible d'extraire les titres et les descriptions de cours puisque le lien vers la base de données ne fonctionne plus, dû à des mises à jours de sécurité sur les serveurs de Polytechnique Montréal. Nous aurions aimer extraire les titres et descriptions pour voir s'ils sont semblable à ceux de l'article 422908.**\n",
    "    \n",
    "    \n",
    "Cependant, les valeurs des PageRank des arcs sortant de *422908* sont d'environ un ordre de grandeur de plus que les valeurs des PageRank des arcs entrant de *422908*. Nos 3 meilleures recommendations d'articles demeurent donc les recommendations d'articles sortant (pour ce qui est de l'article *422908*). \n",
    "\n",
    "Nous arrêtons donc l'exploration des arcs entrants. \n"
   ]
  },
  {
   "cell_type": "markdown",
   "metadata": {},
   "source": [
    "Allons maintenant chercher les articles étant des références de références de l'article *422908*. Pour ce faire, nous calculons la matrice d'adjacence au carrée. Cette matrice contient donc maintenant le nombre de chemin de longeur 2 reliant l'article *422908* avec tous les autres 1089 articles. Le fait qu'il existe 1,2,3,... chemins vers l'article ne nous intéresse pas. Nous voulons simplement s'il existe ou non un chemin de degré 2 reliant *422908* avec un autre article. "
   ]
  },
  {
   "cell_type": "code",
   "execution_count": 8,
   "metadata": {},
   "outputs": [
    {
     "data": {
      "text/html": [
       "'Il existe parfois plusieurs chemins d\\'ordre 2 reliant des articles: '"
      ],
      "text/latex": [
       "'Il existe parfois plusieurs chemins d\\textbackslash{}'ordre 2 reliant des articles: '"
      ],
      "text/markdown": [
       "'Il existe parfois plusieurs chemins d\\'ordre 2 reliant des articles: '"
      ],
      "text/plain": [
       "[1] \"Il existe parfois plusieurs chemins d'ordre 2 reliant des articles: \""
      ]
     },
     "metadata": {},
     "output_type": "display_data"
    },
    {
     "data": {
      "text/html": [
       "<ol class=list-inline>\n",
       "\t<li>0</li>\n",
       "\t<li>1</li>\n",
       "\t<li>2</li>\n",
       "\t<li>4</li>\n",
       "\t<li>3</li>\n",
       "\t<li>6</li>\n",
       "\t<li>5</li>\n",
       "\t<li>7</li>\n",
       "\t<li>12</li>\n",
       "\t<li>8</li>\n",
       "\t<li>13</li>\n",
       "\t<li>9</li>\n",
       "\t<li>10</li>\n",
       "</ol>\n"
      ],
      "text/latex": [
       "\\begin{enumerate*}\n",
       "\\item 0\n",
       "\\item 1\n",
       "\\item 2\n",
       "\\item 4\n",
       "\\item 3\n",
       "\\item 6\n",
       "\\item 5\n",
       "\\item 7\n",
       "\\item 12\n",
       "\\item 8\n",
       "\\item 13\n",
       "\\item 9\n",
       "\\item 10\n",
       "\\end{enumerate*}\n"
      ],
      "text/markdown": [
       "1. 0\n",
       "2. 1\n",
       "3. 2\n",
       "4. 4\n",
       "5. 3\n",
       "6. 6\n",
       "7. 5\n",
       "8. 7\n",
       "9. 12\n",
       "10. 8\n",
       "11. 13\n",
       "12. 9\n",
       "13. 10\n",
       "\n",
       "\n"
      ],
      "text/plain": [
       " [1]  0  1  2  4  3  6  5  7 12  8 13  9 10"
      ]
     },
     "metadata": {},
     "output_type": "display_data"
    },
    {
     "data": {
      "text/html": [
       "'Quartiles du nombre de références de références'"
      ],
      "text/latex": [
       "'Quartiles du nombre de références de références'"
      ],
      "text/markdown": [
       "'Quartiles du nombre de références de références'"
      ],
      "text/plain": [
       "[1] \"Quartiles du nombre de références de références\""
      ]
     },
     "metadata": {},
     "output_type": "display_data"
    },
    {
     "data": {
      "text/plain": [
       "   Min. 1st Qu.  Median    Mean 3rd Qu.    Max. \n",
       "  0.000   0.000   1.000   5.766   7.000  79.000 "
      ]
     },
     "metadata": {},
     "output_type": "display_data"
    },
    {
     "data": {
      "text/html": [
       "'Nombre de références de références pour l\\'article 422908: '"
      ],
      "text/latex": [
       "'Nombre de références de références pour l\\textbackslash{}'article 422908: '"
      ],
      "text/markdown": [
       "'Nombre de références de références pour l\\'article 422908: '"
      ],
      "text/plain": [
       "[1] \"Nombre de références de références pour l'article 422908: \""
      ]
     },
     "metadata": {},
     "output_type": "display_data"
    },
    {
     "data": {
      "text/html": [
       "<strong>422908:</strong> 25"
      ],
      "text/latex": [
       "\\textbf{422908:} 25"
      ],
      "text/markdown": [
       "**422908:** 25"
      ],
      "text/plain": [
       "422908 \n",
       "    25 "
      ]
     },
     "metadata": {},
     "output_type": "display_data"
    },
    {
     "name": "stdout",
     "output_type": "stream",
     "text": [
      "\n"
     ]
    },
    {
     "data": {
      "text/html": [
       "'Quartiles du nombre de référant de référant'"
      ],
      "text/latex": [
       "'Quartiles du nombre de référant de référant'"
      ],
      "text/markdown": [
       "'Quartiles du nombre de référant de référant'"
      ],
      "text/plain": [
       "[1] \"Quartiles du nombre de référant de référant\""
      ]
     },
     "metadata": {},
     "output_type": "display_data"
    },
    {
     "data": {
      "text/plain": [
       "   Min. 1st Qu.  Median    Mean 3rd Qu.    Max. \n",
       "  0.000   0.000   1.000   5.766   4.750 283.000 "
      ]
     },
     "metadata": {},
     "output_type": "display_data"
    },
    {
     "data": {
      "text/html": [
       "'Nombre de référant de référant pour l\\'article 422908: '"
      ],
      "text/latex": [
       "'Nombre de référant de référant pour l\\textbackslash{}'article 422908: '"
      ],
      "text/markdown": [
       "'Nombre de référant de référant pour l\\'article 422908: '"
      ],
      "text/plain": [
       "[1] \"Nombre de référant de référant pour l'article 422908: \""
      ]
     },
     "metadata": {},
     "output_type": "display_data"
    },
    {
     "data": {
      "text/html": [
       "<strong>X422908:</strong> 103"
      ],
      "text/latex": [
       "\\textbf{X422908:} 103"
      ],
      "text/markdown": [
       "**X422908:** 103"
      ],
      "text/plain": [
       "X422908 \n",
       "    103 "
      ]
     },
     "metadata": {},
     "output_type": "display_data"
    }
   ],
   "source": [
    "# Calcul de la matrice d'adjacence au carré\n",
    "m_2 <- data.frame(as.matrix(m) %*% as.matrix(m))\n",
    "paste(\"Il existe parfois plusieurs chemins d'ordre 2 reliant des articles: \")\n",
    "unique(unlist(m_2))\n",
    "\n",
    "# Nombre de références de références \n",
    "ref_out_2 <- rowSums(m_2!=0)\n",
    "paste(\"Quartiles du nombre de références de références\")\n",
    "summary(ref_out_2)\n",
    "paste(\"Nombre de références de références pour l'article 422908: \")\n",
    "ref_out_2[\"422908\"]\n",
    "\n",
    "\n",
    "# Nombre de référant de référant\n",
    "cat(\"\\n\")\n",
    "ref_in_2 <- colSums(m_2!=0)\n",
    "paste(\"Quartiles du nombre de référant de référant\")\n",
    "summary(ref_in_2)\n",
    "paste(\"Nombre de référant de référant pour l'article 422908: \")\n",
    "ref_in_2[\"X422908\"]\n",
    "\n",
    "\n"
   ]
  },
  {
   "cell_type": "markdown",
   "metadata": {},
   "source": [
    "En moyenne, il est donc possible d'atteindre 5.77 articles en suivant les références de références à partir d'un article, à comparer avec 2.64 en ne considérant que les références de premier ordre. \n",
    "\n",
    "L'article *422908* possède 25 références de références (arcs sortant) et 103 référant de référant (arcs entrant). Au premier ordre, on se rappel que nous avions respectivement 17 et 46 articles pour ces métriques. \n",
    "\n",
    "Regardons les valeurs des PageRank de ces nouveaux articles relié à *422908* par des chemins de deux arcs. "
   ]
  },
  {
   "cell_type": "code",
   "execution_count": 9,
   "metadata": {},
   "outputs": [
    {
     "data": {
      "text/html": [
       "'Références de références de 422908 classées en ordre de recommendation (les plus pertinentes étant en premier)'"
      ],
      "text/latex": [
       "'Références de références de 422908 classées en ordre de recommendation (les plus pertinentes étant en premier)'"
      ],
      "text/markdown": [
       "'Références de références de 422908 classées en ordre de recommendation (les plus pertinentes étant en premier)'"
      ],
      "text/plain": [
       "[1] \"Références de références de 422908 classées en ordre de recommendation (les plus pertinentes étant en premier)\""
      ]
     },
     "metadata": {},
     "output_type": "display_data"
    },
    {
     "data": {
      "text/html": [
       "<table>\n",
       "<thead><tr><th></th><th scope=col>index_voisin2_out</th><th scope=col>articles_voisin2_out</th><th scope=col>pr_voisin2_out</th></tr></thead>\n",
       "<tbody>\n",
       "\t<tr><th scope=row>12</th><td>547        </td><td>311874     </td><td>0.007390081</td></tr>\n",
       "\t<tr><th scope=row>7</th><td>295        </td><td>19422      </td><td>0.004107933</td></tr>\n",
       "\t<tr><th scope=row>6</th><td>232        </td><td>17094      </td><td>0.001943729</td></tr>\n",
       "\t<tr><th scope=row>17</th><td>747        </td><td>422908     </td><td>0.001574930</td></tr>\n",
       "\t<tr><th scope=row>24</th><td>985        </td><td>70445      </td><td>0.001530473</td></tr>\n",
       "\t<tr><th scope=row>8</th><td>312        </td><td>206738     </td><td>0.001517271</td></tr>\n",
       "</tbody>\n",
       "</table>\n"
      ],
      "text/latex": [
       "\\begin{tabular}{r|lll}\n",
       "  & index\\_voisin2\\_out & articles\\_voisin2\\_out & pr\\_voisin2\\_out\\\\\n",
       "\\hline\n",
       "\t12 & 547         & 311874      & 0.007390081\\\\\n",
       "\t7 & 295         & 19422       & 0.004107933\\\\\n",
       "\t6 & 232         & 17094       & 0.001943729\\\\\n",
       "\t17 & 747         & 422908      & 0.001574930\\\\\n",
       "\t24 & 985         & 70445       & 0.001530473\\\\\n",
       "\t8 & 312         & 206738      & 0.001517271\\\\\n",
       "\\end{tabular}\n"
      ],
      "text/markdown": [
       "\n",
       "| <!--/--> | index_voisin2_out | articles_voisin2_out | pr_voisin2_out |\n",
       "|---|---|---|---|\n",
       "| 12 | 547         | 311874      | 0.007390081 |\n",
       "| 7 | 295         | 19422       | 0.004107933 |\n",
       "| 6 | 232         | 17094       | 0.001943729 |\n",
       "| 17 | 747         | 422908      | 0.001574930 |\n",
       "| 24 | 985         | 70445       | 0.001530473 |\n",
       "| 8 | 312         | 206738      | 0.001517271 |\n",
       "\n"
      ],
      "text/plain": [
       "   index_voisin2_out articles_voisin2_out pr_voisin2_out\n",
       "12 547               311874               0.007390081   \n",
       "7  295               19422                0.004107933   \n",
       "6  232               17094                0.001943729   \n",
       "17 747               422908               0.001574930   \n",
       "24 985               70445                0.001530473   \n",
       "8  312               206738               0.001517271   "
      ]
     },
     "metadata": {},
     "output_type": "display_data"
    },
    {
     "data": {
      "text/plain": [
       "     Min.   1st Qu.    Median      Mean   3rd Qu.      Max. \n",
       "0.0003519 0.0004937 0.0008514 0.0012850 0.0015023 0.0073901 "
      ]
     },
     "metadata": {},
     "output_type": "display_data"
    }
   ],
   "source": [
    "# On extrait les valeurs des PageRank des références de références de 422908\n",
    "index_voisin2_out<-which((m_2['422908',]!=0)==TRUE)\n",
    "pr_voisin2_out <- pr[index_voisin2_out]\n",
    "articles_voisin2_out <- articles[index_voisin2_out]\n",
    "\n",
    "# On stock le tout dans un dataframe et on tri en ordre décroissant selon la PageRank\n",
    "df_voisin2_out <- data.frame(index_voisin2_out,articles_voisin2_out, pr_voisin2_out)\n",
    "df_voisin2_out <- df_voisin2_out[with(df_voisin2_out, order(pr_voisin2_out, decreasing=TRUE)),]\n",
    "paste(\"Références de références de 422908 classées en ordre de recommendation (les plus pertinentes étant en premier)\")\n",
    "head(df_voisin2_out)\n",
    "(summary(df_voisin2_out[,\"pr_voisin2_out\"]))"
   ]
  },
  {
   "cell_type": "markdown",
   "metadata": {},
   "source": [
    "On remarque donc plusieurs doublons entre les voisin de premier ordre et de deuxième ordre de l'article *422908*. Cela veut donc dire que ces articles font partie d'un cycle contenant *422908*. Il est donc intéressant de fusionner les deux dataframes en éliminant les articles répétés."
   ]
  },
  {
   "cell_type": "code",
   "execution_count": 10,
   "metadata": {
    "scrolled": true
   },
   "outputs": [
    {
     "name": "stderr",
     "output_type": "stream",
     "text": [
      "Column 1 ['index_voisin2_out'] of item 2 is missing in item 1. Use fill=TRUE to fill with NA (NULL for list columns), or use.names=FALSE to ignore column names. use.names='check' (default from v1.12.2) emits this message and proceeds as if use.names=FALSE for  backwards compatibility. See news item 5 in v1.12.2 for options to control this message.\n"
     ]
    },
    {
     "data": {
      "text/html": [
       "'PageRank des voisins sortant d\\'ordre 1 et 2 de l\\'article 422908'"
      ],
      "text/latex": [
       "'PageRank des voisins sortant d\\textbackslash{}'ordre 1 et 2 de l\\textbackslash{}'article 422908'"
      ],
      "text/markdown": [
       "'PageRank des voisins sortant d\\'ordre 1 et 2 de l\\'article 422908'"
      ],
      "text/plain": [
       "[1] \"PageRank des voisins sortant d'ordre 1 et 2 de l'article 422908\""
      ]
     },
     "metadata": {},
     "output_type": "display_data"
    },
    {
     "data": {
      "text/html": [
       "<table>\n",
       "<thead><tr><th scope=col>Index</th><th scope=col>Article</th><th scope=col>PageRank</th></tr></thead>\n",
       "<tbody>\n",
       "\t<tr><td>547        </td><td>311874     </td><td>0.007390081</td></tr>\n",
       "\t<tr><td>295        </td><td>19422      </td><td>0.004107933</td></tr>\n",
       "\t<tr><td>232        </td><td>17094      </td><td>0.001943729</td></tr>\n",
       "\t<tr><td>747        </td><td>422908     </td><td>0.001574930</td></tr>\n",
       "\t<tr><td>985        </td><td>70445      </td><td>0.001530473</td></tr>\n",
       "\t<tr><td>312        </td><td>206738     </td><td>0.001517271</td></tr>\n",
       "\t<tr><td>363        </td><td>225173     </td><td>0.001502258</td></tr>\n",
       "\t<tr><td>184        </td><td>155792     </td><td>0.001227710</td></tr>\n",
       "\t<tr><td>961        </td><td>64835      </td><td>0.001172779</td></tr>\n",
       "\t<tr><td>889        </td><td>522428     </td><td>0.001104272</td></tr>\n",
       "</tbody>\n",
       "</table>\n"
      ],
      "text/latex": [
       "\\begin{tabular}{r|lll}\n",
       " Index & Article & PageRank\\\\\n",
       "\\hline\n",
       "\t 547         & 311874      & 0.007390081\\\\\n",
       "\t 295         & 19422       & 0.004107933\\\\\n",
       "\t 232         & 17094       & 0.001943729\\\\\n",
       "\t 747         & 422908      & 0.001574930\\\\\n",
       "\t 985         & 70445       & 0.001530473\\\\\n",
       "\t 312         & 206738      & 0.001517271\\\\\n",
       "\t 363         & 225173      & 0.001502258\\\\\n",
       "\t 184         & 155792      & 0.001227710\\\\\n",
       "\t 961         & 64835       & 0.001172779\\\\\n",
       "\t 889         & 522428      & 0.001104272\\\\\n",
       "\\end{tabular}\n"
      ],
      "text/markdown": [
       "\n",
       "| Index | Article | PageRank |\n",
       "|---|---|---|\n",
       "| 547         | 311874      | 0.007390081 |\n",
       "| 295         | 19422       | 0.004107933 |\n",
       "| 232         | 17094       | 0.001943729 |\n",
       "| 747         | 422908      | 0.001574930 |\n",
       "| 985         | 70445       | 0.001530473 |\n",
       "| 312         | 206738      | 0.001517271 |\n",
       "| 363         | 225173      | 0.001502258 |\n",
       "| 184         | 155792      | 0.001227710 |\n",
       "| 961         | 64835       | 0.001172779 |\n",
       "| 889         | 522428      | 0.001104272 |\n",
       "\n"
      ],
      "text/plain": [
       "   Index Article PageRank   \n",
       "1  547   311874  0.007390081\n",
       "2  295   19422   0.004107933\n",
       "3  232   17094   0.001943729\n",
       "4  747   422908  0.001574930\n",
       "5  985   70445   0.001530473\n",
       "6  312   206738  0.001517271\n",
       "7  363   225173  0.001502258\n",
       "8  184   155792  0.001227710\n",
       "9  961   64835   0.001172779\n",
       "10 889   522428  0.001104272"
      ]
     },
     "metadata": {},
     "output_type": "display_data"
    },
    {
     "data": {
      "text/html": [
       "<span style=white-space:pre-wrap>'Par exemple, il existe:  4 chemins d\\'ordre 2 de 422908 vers 70445'</span>"
      ],
      "text/latex": [
       "'Par exemple, il existe:  4 chemins d\\textbackslash{}'ordre 2 de 422908 vers 70445'"
      ],
      "text/markdown": [
       "<span style=white-space:pre-wrap>'Par exemple, il existe:  4 chemins d\\'ordre 2 de 422908 vers 70445'</span>"
      ],
      "text/plain": [
       "[1] \"Par exemple, il existe:  4 chemins d'ordre 2 de 422908 vers 70445\""
      ]
     },
     "metadata": {},
     "output_type": "display_data"
    }
   ],
   "source": [
    "merged_out <- (rbindlist(list(df_voisin1_out,df_voisin2_out), fill=FALSE))\n",
    "colnames(merged_out) <- c(\"Index\",\"Article\",\"PageRank\")\n",
    "merged_out <- merged_out[!duplicated(merged_out)]\n",
    "merged_out <- merged_out[with(merged_out, order(PageRank, decreasing=TRUE)),]\n",
    "paste(\"PageRank des voisins sortant d'ordre 1 et 2 de l'article 422908\")\n",
    "head(merged_out,10)\n",
    "paste(\"Par exemple, il existe: \",m_2['422908','X70445'], \"chemins d'ordre 2 de 422908 vers 70445\" )\n",
    "\n"
   ]
  },
  {
   "cell_type": "markdown",
   "metadata": {},
   "source": [
    "Le PageRank moyen pour les références de l'article *422908* est de 0.0013689 alors que le PageRank moyen pour les références de références de l'article *422908* est de 0.001285. Ces moyennes sont donc comparables. \n",
    "\n",
    "Lorsque nous étendons notre domaine de recherche aux références de références, le top 3 des articles suggérés ne change pas. Cela veut donc dire que les 3 articles avec les valeurs de PageRank les plus élevés parmis les voisins sortant d'ordre 1 et 2 sont d'ordre 1. Cependant, **en quatrième position, nous obtenons l'article *422908* lui-même!** Cela veut donc dire que l'article *422908* référence un article qui lui référence vers *422908*. Nous avons donc détecté un cycle contenant l'article *422908*. Cela souligne bien le fait qu'il faut faire attention pour ne pas recommender à un utilisateur de lire comme article suivant l'article qu'il est actuellement en train de lire. Cela peut facilement se produire lorsque l'article en lecture possède un PageRank élevé et que l'on étend les suggestions aux voisins de deuxième ordre. Puisque 61 articles dans notre base de données réfèrent à eux-même, il serait possible d'avoir l'article en lecture dans les suggestions même si l'analyse est limité aux premiers voisins. \n",
    "\n",
    "En cinquième position, nous obtenons l'article *70445* qui est un deuxième voisin de *422908*. Il existe 4 chemins de longueur deux reliant l'article *422908* à l'article *70445*. Ce nombre élevé de chemins de deuxième ordre est intéressant. Cela démontre que les articles *422908* et *70445* sont reliés de plusieurs façons. Il serait intéressant d'explorer ces 4 différents chemins pour voir si les 4 chemins  représentent les mêmes sujets. "
   ]
  },
  {
   "cell_type": "markdown",
   "metadata": {},
   "source": [
    "### Question 2: Comparez les recommandations de Page Rank avec celles d'une approche basée sur la similarité des articles.\n",
    "\n",
    "La mesure de similarité pour commencer sera simplement la similarité en cosinus de la rangé *422908* avec toutes les autres lignes du dataframe *m*. Ainsi, les attributs de l'espace vectoriel dans lequel ont calcul cette similitude est simplement le fait de référencer ou non vers un article. De ce fait, selon cette approche, les articles les plus similaires seront les articles qui références majoritairement vers les mêmes articles. \n",
    "\n",
    "Pour cette question du tp, il est pratique d'utiliser la librairies *philentropy*. Cette librairie contient 46 calculs optimisés de distances et de similarités. Initiallement, cette librairie a été développée pour comparer des densités de probabilités. Nous pouvons nous en servir pour calculer des similarités et des distances entre chacune des observations (articles) de notre base de données. "
   ]
  },
  {
   "cell_type": "code",
   "execution_count": 11,
   "metadata": {},
   "outputs": [
    {
     "name": "stderr",
     "output_type": "stream",
     "text": [
      "Metric: 'cosine'; comparing: 1090 vectors.\n"
     ]
    }
   ],
   "source": [
    "# On calcul la similarité en cosinus de chaque article avec chacun des autres\n",
    "cos_simil <- as.data.frame(distance(m, method = \"cosine\"))"
   ]
  },
  {
   "cell_type": "code",
   "execution_count": 12,
   "metadata": {},
   "outputs": [
    {
     "data": {
      "text/html": [
       "<table>\n",
       "<thead><tr><th></th><th scope=col>422908</th></tr></thead>\n",
       "<tbody>\n",
       "\t<tr><th scope=row>422908</th><td>1</td></tr>\n",
       "</tbody>\n",
       "</table>\n"
      ],
      "text/latex": [
       "\\begin{tabular}{r|l}\n",
       "  & 422908\\\\\n",
       "\\hline\n",
       "\t422908 & 1\\\\\n",
       "\\end{tabular}\n"
      ],
      "text/markdown": [
       "\n",
       "| <!--/--> | 422908 |\n",
       "|---|---|\n",
       "| 422908 | 1 |\n",
       "\n"
      ],
      "text/plain": [
       "       422908\n",
       "422908 1     "
      ]
     },
     "metadata": {},
     "output_type": "display_data"
    }
   ],
   "source": [
    "# On renomme les lignes et colonnes\n",
    "colnames(cos_simil) <- articles\n",
    "rownames(cos_simil) <- articles\n",
    "\n",
    "# On extrait la similitude de l'article 422908 avec chacun des autres articles\n",
    "cos_simil_422908 <- cos_simil['422908',]\n",
    "\n",
    "# On valide que l'article 422908 possède une similitude parfaite (1) avec lui-même\n",
    "(cos_simil_422908['422908'])\n",
    "\n",
    "# On extrait les 10 articles les plus similaires à 422908\n"
   ]
  },
  {
   "cell_type": "code",
   "execution_count": 13,
   "metadata": {},
   "outputs": [
    {
     "data": {
      "text/html": [
       "'Articles recommendés selon la similitude en cosinus'"
      ],
      "text/latex": [
       "'Articles recommendés selon la similitude en cosinus'"
      ],
      "text/markdown": [
       "'Articles recommendés selon la similitude en cosinus'"
      ],
      "text/plain": [
       "[1] \"Articles recommendés selon la similitude en cosinus\""
      ]
     },
     "metadata": {},
     "output_type": "display_data"
    },
    {
     "data": {
      "text/html": [
       "<ol class=list-inline>\n",
       "\t<li>'422908'</li>\n",
       "\t<li>'96767'</li>\n",
       "\t<li>'70445'</li>\n",
       "\t<li>'149673'</li>\n",
       "\t<li>'466838'</li>\n",
       "\t<li>'155792'</li>\n",
       "\t<li>'53632'</li>\n",
       "\t<li>'497542'</li>\n",
       "\t<li>'3175'</li>\n",
       "\t<li>'17507'</li>\n",
       "\t<li>'147460'</li>\n",
       "</ol>\n"
      ],
      "text/latex": [
       "\\begin{enumerate*}\n",
       "\\item '422908'\n",
       "\\item '96767'\n",
       "\\item '70445'\n",
       "\\item '149673'\n",
       "\\item '466838'\n",
       "\\item '155792'\n",
       "\\item '53632'\n",
       "\\item '497542'\n",
       "\\item '3175'\n",
       "\\item '17507'\n",
       "\\item '147460'\n",
       "\\end{enumerate*}\n"
      ],
      "text/markdown": [
       "1. '422908'\n",
       "2. '96767'\n",
       "3. '70445'\n",
       "4. '149673'\n",
       "5. '466838'\n",
       "6. '155792'\n",
       "7. '53632'\n",
       "8. '497542'\n",
       "9. '3175'\n",
       "10. '17507'\n",
       "11. '147460'\n",
       "\n",
       "\n"
      ],
      "text/plain": [
       " [1] \"422908\" \"96767\"  \"70445\"  \"149673\" \"466838\" \"155792\" \"53632\"  \"497542\"\n",
       " [9] \"3175\"   \"17507\"  \"147460\""
      ]
     },
     "metadata": {},
     "output_type": "display_data"
    },
    {
     "data": {
      "text/html": [
       "'Valeur des cosinus des top articles similaires'"
      ],
      "text/latex": [
       "'Valeur des cosinus des top articles similaires'"
      ],
      "text/markdown": [
       "'Valeur des cosinus des top articles similaires'"
      ],
      "text/plain": [
       "[1] \"Valeur des cosinus des top articles similaires\""
      ]
     },
     "metadata": {},
     "output_type": "display_data"
    },
    {
     "data": {
      "text/html": [
       "<table>\n",
       "<thead><tr><th></th><th scope=col>422908</th><th scope=col>96767</th><th scope=col>70445</th><th scope=col>149673</th><th scope=col>466838</th><th scope=col>155792</th><th scope=col>53632</th><th scope=col>497542</th><th scope=col>3175</th><th scope=col>17507</th><th scope=col>147460</th></tr></thead>\n",
       "<tbody>\n",
       "\t<tr><th scope=row>422908</th><td>1        </td><td>0.5144958</td><td>0.4950738</td><td>0.4850713</td><td>0.4850713</td><td>0.4583492</td><td>0.4583492</td><td>0.4338609</td><td>0.4287465</td><td>0.420084 </td><td>0.396059 </td></tr>\n",
       "</tbody>\n",
       "</table>\n"
      ],
      "text/latex": [
       "\\begin{tabular}{r|lllllllllll}\n",
       "  & 422908 & 96767 & 70445 & 149673 & 466838 & 155792 & 53632 & 497542 & 3175 & 17507 & 147460\\\\\n",
       "\\hline\n",
       "\t422908 & 1         & 0.5144958 & 0.4950738 & 0.4850713 & 0.4850713 & 0.4583492 & 0.4583492 & 0.4338609 & 0.4287465 & 0.420084  & 0.396059 \\\\\n",
       "\\end{tabular}\n"
      ],
      "text/markdown": [
       "\n",
       "| <!--/--> | 422908 | 96767 | 70445 | 149673 | 466838 | 155792 | 53632 | 497542 | 3175 | 17507 | 147460 |\n",
       "|---|---|---|---|---|---|---|---|---|---|---|---|\n",
       "| 422908 | 1         | 0.5144958 | 0.4950738 | 0.4850713 | 0.4850713 | 0.4583492 | 0.4583492 | 0.4338609 | 0.4287465 | 0.420084  | 0.396059  |\n",
       "\n"
      ],
      "text/plain": [
       "       422908 96767     70445     149673    466838    155792    53632    \n",
       "422908 1      0.5144958 0.4950738 0.4850713 0.4850713 0.4583492 0.4583492\n",
       "       497542    3175      17507    147460  \n",
       "422908 0.4338609 0.4287465 0.420084 0.396059"
      ]
     },
     "metadata": {},
     "output_type": "display_data"
    }
   ],
   "source": [
    "# Transpose pour faciliter la lecture visuelle\n",
    "t_cos_simil_422908 <- t(cos_simil_422908)\n",
    "colnames(t_cos_simil_422908) <- 'cosinus avec 422908'\n",
    "\n",
    "\n",
    "# Extraction des index les plus élevé\n",
    "index_top_cos <- max.nindex(t_cos_simil_422908,11)\n",
    "\n",
    "# Extraction des numéros d'articles avec le cosinus le plus élevé\n",
    "articles_top_cos <- articles[index_top_cos]\n",
    "paste(\"Articles recommendés selon la similitude en cosinus\")\n",
    "(articles_top_cos)\n",
    "\n",
    "# Valeurs des cosinus de ces tops articles\n",
    "paste(\"Valeur des cosinus des top articles similaires\")\n",
    "cos_simil_422908[index_top_cos]"
   ]
  },
  {
   "cell_type": "code",
   "execution_count": 14,
   "metadata": {},
   "outputs": [
    {
     "data": {
      "text/html": [
       "<span style=white-space:pre-wrap>'Il y a  351  similitudes en cosinus de valeur NaN.'</span>"
      ],
      "text/latex": [
       "'Il y a  351  similitudes en cosinus de valeur NaN.'"
      ],
      "text/markdown": [
       "<span style=white-space:pre-wrap>'Il y a  351  similitudes en cosinus de valeur NaN.'</span>"
      ],
      "text/plain": [
       "[1] \"Il y a  351  similitudes en cosinus de valeur NaN.\""
      ]
     },
     "metadata": {},
     "output_type": "display_data"
    },
    {
     "data": {
      "text/html": [
       "<span style=white-space:pre-wrap>'Il y a  467  similitudes en cosinus nulle.'</span>"
      ],
      "text/latex": [
       "'Il y a  467  similitudes en cosinus nulle.'"
      ],
      "text/markdown": [
       "<span style=white-space:pre-wrap>'Il y a  467  similitudes en cosinus nulle.'</span>"
      ],
      "text/plain": [
       "[1] \"Il y a  467  similitudes en cosinus nulle.\""
      ]
     },
     "metadata": {},
     "output_type": "display_data"
    },
    {
     "data": {
      "image/png": "[encoded data removed]",
      "text/plain": [
       "Plot with title \"Distribution des similitudes en cosinus\""
      ]
     },
     "metadata": {},
     "output_type": "display_data"
    }
   ],
   "source": [
    "# On observe la distribution des similitudes en cosinus\n",
    "# Il n'existe pas d'article avec une similitude supérieur à 0.52 (ce qui est relativement faible)\n",
    "hist(as.numeric(cos_simil_422908),\n",
    "    main=\"Distribution des similitudes en cosinus\",\n",
    "    xlab='Cosinus',\n",
    "    ylab='Fréquence')\n",
    "\n",
    "paste(\"Il y a \",length((cos_simil_422908[is.na(cos_simil_422908)])),\" similitudes en cosinus de valeur NaN.\")\n",
    "paste(\"Il y a \",sum(!is.na(cos_simil_422908[cos_simil_422908==0])),\" similitudes en cosinus nulle.\")"
   ]
  },
  {
   "cell_type": "markdown",
   "metadata": {},
   "source": [
    "En calculant la similarité en cosinus, nous obtenons beaucoup de zéro de de *NaN*. Il est facile de comprendre pourquoi si l'on étudie l'équivalence d'un cosinus en terme de produit scalaire:\n",
    "\n",
    "\\begin{equation}\n",
    "cos(\\theta)=\\frac{v_1\\cdot v_2}{|v_1||v_2|}\n",
    "\\end{equation}\n",
    "\n",
    "Ainsi, lorsque les vecteurs $v_1$ et $v_2$ ne possèdent aucune références en commun (ce qui est très probable, puisque la base de donnée contient 1090 articles et la moyenne de références par article est de 2.6), alors le numérateur sera de zéro. Ceci résulte en une similarité en cosinus de zéro. \n",
    "\n",
    "Si soit $v_1$ ou $v_2$ fait partie des 351 articles n'ayant aucune référence, alors soit $|v_1|$ ou $|v_2|$ sera nul, ce qui impose une division par zéro dans le calcul du cosinus. Ainsi, nous obtenons une similarité en cosinus de *NaN*.\n",
    "\n",
    "Nous avons réfléchi à retiré ces 351 articles qui ne possèdent aucune référence. Nous avons finalement décider de les conserver dans notre analyse pour mettre en valeur:\n",
    "- L'importance d'accumuler des données de qualité.\n",
    "- Les erreurs pouvant découler de données de moindre qualité.\n",
    "\n",
    "Nous verons à la question 3 plusieurs erreurs découlant du fait que la grande majorité de nos articles possèdent très peu de références. "
   ]
  },
  {
   "cell_type": "code",
   "execution_count": 15,
   "metadata": {},
   "outputs": [
    {
     "data": {
      "text/html": [
       "1"
      ],
      "text/latex": [
       "1"
      ],
      "text/markdown": [
       "1"
      ],
      "text/plain": [
       "[1] 1"
      ]
     },
     "metadata": {},
     "output_type": "display_data"
    },
    {
     "data": {
      "text/html": [
       "<ol class=list-inline>\n",
       "\t<li>9</li>\n",
       "\t<li>26</li>\n",
       "\t<li>75</li>\n",
       "\t<li>92</li>\n",
       "\t<li>97</li>\n",
       "\t<li>113</li>\n",
       "\t<li>126</li>\n",
       "\t<li>135</li>\n",
       "\t<li>162</li>\n",
       "\t<li>185</li>\n",
       "\t<li>216</li>\n",
       "\t<li>238</li>\n",
       "\t<li>246</li>\n",
       "\t<li>256</li>\n",
       "\t<li>260</li>\n",
       "\t<li>368</li>\n",
       "\t<li>448</li>\n",
       "\t<li>487</li>\n",
       "\t<li>496</li>\n",
       "\t<li>518</li>\n",
       "\t<li>531</li>\n",
       "\t<li>560</li>\n",
       "\t<li>561</li>\n",
       "\t<li>566</li>\n",
       "\t<li>624</li>\n",
       "\t<li>668</li>\n",
       "\t<li>716</li>\n",
       "\t<li>721</li>\n",
       "\t<li>722</li>\n",
       "\t<li>806</li>\n",
       "\t<li>811</li>\n",
       "\t<li>858</li>\n",
       "\t<li>859</li>\n",
       "\t<li>961</li>\n",
       "\t<li>962</li>\n",
       "\t<li>968</li>\n",
       "\t<li>970</li>\n",
       "\t<li>989</li>\n",
       "\t<li>1004</li>\n",
       "\t<li>1010</li>\n",
       "\t<li>1012</li>\n",
       "\t<li>1029</li>\n",
       "\t<li>1030</li>\n",
       "\t<li>1032</li>\n",
       "\t<li>1081</li>\n",
       "\t<li>1087</li>\n",
       "</ol>\n"
      ],
      "text/latex": [
       "\\begin{enumerate*}\n",
       "\\item 9\n",
       "\\item 26\n",
       "\\item 75\n",
       "\\item 92\n",
       "\\item 97\n",
       "\\item 113\n",
       "\\item 126\n",
       "\\item 135\n",
       "\\item 162\n",
       "\\item 185\n",
       "\\item 216\n",
       "\\item 238\n",
       "\\item 246\n",
       "\\item 256\n",
       "\\item 260\n",
       "\\item 368\n",
       "\\item 448\n",
       "\\item 487\n",
       "\\item 496\n",
       "\\item 518\n",
       "\\item 531\n",
       "\\item 560\n",
       "\\item 561\n",
       "\\item 566\n",
       "\\item 624\n",
       "\\item 668\n",
       "\\item 716\n",
       "\\item 721\n",
       "\\item 722\n",
       "\\item 806\n",
       "\\item 811\n",
       "\\item 858\n",
       "\\item 859\n",
       "\\item 961\n",
       "\\item 962\n",
       "\\item 968\n",
       "\\item 970\n",
       "\\item 989\n",
       "\\item 1004\n",
       "\\item 1010\n",
       "\\item 1012\n",
       "\\item 1029\n",
       "\\item 1030\n",
       "\\item 1032\n",
       "\\item 1081\n",
       "\\item 1087\n",
       "\\end{enumerate*}\n"
      ],
      "text/markdown": [
       "1. 9\n",
       "2. 26\n",
       "3. 75\n",
       "4. 92\n",
       "5. 97\n",
       "6. 113\n",
       "7. 126\n",
       "8. 135\n",
       "9. 162\n",
       "10. 185\n",
       "11. 216\n",
       "12. 238\n",
       "13. 246\n",
       "14. 256\n",
       "15. 260\n",
       "16. 368\n",
       "17. 448\n",
       "18. 487\n",
       "19. 496\n",
       "20. 518\n",
       "21. 531\n",
       "22. 560\n",
       "23. 561\n",
       "24. 566\n",
       "25. 624\n",
       "26. 668\n",
       "27. 716\n",
       "28. 721\n",
       "29. 722\n",
       "30. 806\n",
       "31. 811\n",
       "32. 858\n",
       "33. 859\n",
       "34. 961\n",
       "35. 962\n",
       "36. 968\n",
       "37. 970\n",
       "38. 989\n",
       "39. 1004\n",
       "40. 1010\n",
       "41. 1012\n",
       "42. 1029\n",
       "43. 1030\n",
       "44. 1032\n",
       "45. 1081\n",
       "46. 1087\n",
       "\n",
       "\n"
      ],
      "text/plain": [
       " [1]    9   26   75   92   97  113  126  135  162  185  216  238  246  256  260\n",
       "[16]  368  448  487  496  518  531  560  561  566  624  668  716  721  722  806\n",
       "[31]  811  858  859  961  962  968  970  989 1004 1010 1012 1029 1030 1032 1081\n",
       "[46] 1087"
      ]
     },
     "metadata": {},
     "output_type": "display_data"
    },
    {
     "data": {
      "text/html": [
       "1081"
      ],
      "text/latex": [
       "1081"
      ],
      "text/markdown": [
       "1081"
      ],
      "text/plain": [
       "[1] 1081"
      ]
     },
     "metadata": {},
     "output_type": "display_data"
    }
   ],
   "source": [
    "# L'article 96767 est un lien entrant de premier ordre de l'article 422908.\n",
    "m['96767','X422908']\n",
    "which(m[,'X422908']==1)\n",
    "which(articles=='96767')"
   ]
  },
  {
   "cell_type": "markdown",
   "metadata": {},
   "source": [
    "Évidemment, nous retrouvons que l'article 422908 possède une similitude en cosinus parfaite (de 1) avec lui-même. Ensuite, nous obtenons des similitudes entre 0.4 et 0.5 comme 10 articles les plus similaires. Objectivement, ces similitudes semblent très faible. Nous devons quand même garder en tête que nous sommes dans une matrice très creuse et de dimension 1090, ce qui pourraient expliquer ces faibles valeurs de similitudes. \n",
    "\n",
    "\n",
    "Les résultats d'articles similaire en cosinus à l'article *422908* sont très intéressant! Comme top 10 des articles les plus similaires en cosinus, nous obtenons le articles *96767*, *70445*, *149673*, *466838*, *155792*, *53632*, *497542*, *3175*, *17507*, *147460*. Parmis ceux-ci, *149673*, *466838*, *155792* *497542* et *14760* sont des références d'ordre 1 de l'article *422908*. Il y a donc 50% des articles les plus similaires en cosinus qui sont des voisins d'ordre 1. La similitude en cosinus semble donc relativement efficace pour trouver des voisins de premier ordre. Par contre, les recommendations selon la similitude en cosinus ne sont pas du tout les voisins qui avaient les PageRank les plus élevés. En effet, ils étaient respectivement en position 15, 16, 4, 12 et 11 sur les 17 voisins d'ordre 1. Si l'on compare avec les voisins d'ordre 1 et 2, nous observons que la 2e recommendation en cosinus (*70445*) est notre 4e recommendation en considérant les voisins d'ordre 2. Il devient donc intéressant de suggérer à l'utilisateur des articles qui sont à l'union de nos deux listes de recommendations, plutôt que de se fier uniquemment à une métrique (PageRank ou cosinus). On commence donc quelque peu à réfléchir selon des méthodes d'ensemble pour assurer le plus possibles que nos recommendations soient pertinentes. \n",
    "\n",
    "Mais qu'en est-il de l'article le plus similaire en cosinus avec *422908*, soit l'article *96767*? **C'est un arc entrant (référant) de *422908*!** C'est le référant de *422908* avec la seconde valeur de PageRank la plus élevée! Nous voyons donc l'importance de bien explorer notre jeu de données. Nous n'aurions jamais détecté cette relation si nous n'avions pas étendu notre analyse aux liens entrant de *422908* (en comparaison avec simplement considéré les voisins sortant de 1et et 2e ordre). \n",
    "\n",
    "\n",
    "\n",
    "Bref, la similitude en cosinus permet de suggérer quelques voisins de l'article, mais pas nécessairement les plus populaires (ceux avec le PageRank le plus élevé).\n",
    "\n"
   ]
  },
  {
   "cell_type": "markdown",
   "metadata": {},
   "source": [
    "**Travail supplémentaire:**\n",
    "\n",
    "Explorons une différente méthodologie pour détecter des similitudes entre les sommets d'un graphe. Lorsque tous les attributs d'observations sont binaires (comme ici dans la matrice d'adjacence de premier ordre), il est possible de calculer la **distance de Jaccard** entre deux observations (ici, chaque observation est un noeud de note graphe et chaque attribut binaire est l'existence ou non d'un arc vers chacun des autres articles). \n",
    "\n",
    "La distance de Jaccard entre deux sommets *A* et *B* est définie comme étant $1-J(A,B)$, où $J(A,B)$ est l'indice de Jaccard. L'indice de Jaccard est défini comme suit: \n",
    "\n",
    "\\begin{equation}\n",
    "J(A,B) = \\frac{|A\\cap B|}{|A \\cup B|} = \\frac{|A \\cap B|}{|A|+|B|-|A\\cap B|}\n",
    "\\end{equation}.\n",
    "\n",
    "Nous pouvons donc calculer $1-J(A,B)$ pour obtenir une distance qui réflète la proximité des articles, tout en conservant l'interprétation binaire des attributs. "
   ]
  },
  {
   "cell_type": "code",
   "execution_count": 19,
   "metadata": {},
   "outputs": [
    {
     "name": "stderr",
     "output_type": "stream",
     "text": [
      "Metric: 'jaccard'; comparing: 1090 vectors.\n"
     ]
    }
   ],
   "source": [
    "# Calcul de la distance de Jaccard de tous les articles entre-eux\n",
    "jacc <- as.data.frame(distance(m, method = \"jaccard\"))\n",
    "colnames(jacc) <- articles\n",
    "rownames(jacc) <- articles\n",
    "\n",
    "# On extrait les distances par rapport à 422908\n",
    "jacc_422908 <- jacc['422908', ]"
   ]
  },
  {
   "cell_type": "code",
   "execution_count": 20,
   "metadata": {},
   "outputs": [
    {
     "data": {
      "text/html": [
       "'Distance de 422908 avec lui-même: '"
      ],
      "text/latex": [
       "'Distance de 422908 avec lui-même: '"
      ],
      "text/markdown": [
       "'Distance de 422908 avec lui-même: '"
      ],
      "text/plain": [
       "[1] \"Distance de 422908 avec lui-même: \""
      ]
     },
     "metadata": {},
     "output_type": "display_data"
    },
    {
     "data": {
      "text/html": [
       "0"
      ],
      "text/latex": [
       "0"
      ],
      "text/markdown": [
       "0"
      ],
      "text/plain": [
       "[1] 0"
      ]
     },
     "metadata": {},
     "output_type": "display_data"
    },
    {
     "data": {
      "text/html": [
       "'Articles les plus près selon la distance de Jaccard'"
      ],
      "text/latex": [
       "'Articles les plus près selon la distance de Jaccard'"
      ],
      "text/markdown": [
       "'Articles les plus près selon la distance de Jaccard'"
      ],
      "text/plain": [
       "[1] \"Articles les plus près selon la distance de Jaccard\""
      ]
     },
     "metadata": {},
     "output_type": "display_data"
    },
    {
     "data": {
      "text/html": [
       "<ol class=list-inline>\n",
       "\t<li>'422908'</li>\n",
       "\t<li>'96767'</li>\n",
       "\t<li>'70445'</li>\n",
       "\t<li>'155792'</li>\n",
       "\t<li>'53632'</li>\n",
       "\t<li>'17507'</li>\n",
       "\t<li>'3175'</li>\n",
       "\t<li>'149673'</li>\n",
       "\t<li>'466838'</li>\n",
       "\t<li>'497542'</li>\n",
       "\t<li>'147460'</li>\n",
       "</ol>\n"
      ],
      "text/latex": [
       "\\begin{enumerate*}\n",
       "\\item '422908'\n",
       "\\item '96767'\n",
       "\\item '70445'\n",
       "\\item '155792'\n",
       "\\item '53632'\n",
       "\\item '17507'\n",
       "\\item '3175'\n",
       "\\item '149673'\n",
       "\\item '466838'\n",
       "\\item '497542'\n",
       "\\item '147460'\n",
       "\\end{enumerate*}\n"
      ],
      "text/markdown": [
       "1. '422908'\n",
       "2. '96767'\n",
       "3. '70445'\n",
       "4. '155792'\n",
       "5. '53632'\n",
       "6. '17507'\n",
       "7. '3175'\n",
       "8. '149673'\n",
       "9. '466838'\n",
       "10. '497542'\n",
       "11. '147460'\n",
       "\n",
       "\n"
      ],
      "text/plain": [
       " [1] \"422908\" \"96767\"  \"70445\"  \"155792\" \"53632\"  \"17507\"  \"3175\"   \"149673\"\n",
       " [9] \"466838\" \"497542\" \"147460\""
      ]
     },
     "metadata": {},
     "output_type": "display_data"
    },
    {
     "data": {
      "text/html": [
       "'Valeur des distances de Jaccard des articles les plus près'"
      ],
      "text/latex": [
       "'Valeur des distances de Jaccard des articles les plus près'"
      ],
      "text/markdown": [
       "'Valeur des distances de Jaccard des articles les plus près'"
      ],
      "text/plain": [
       "[1] \"Valeur des distances de Jaccard des articles les plus près\""
      ]
     },
     "metadata": {},
     "output_type": "display_data"
    },
    {
     "data": {
      "text/html": [
       "<table>\n",
       "<thead><tr><th></th><th scope=col>422908</th><th scope=col>96767</th><th scope=col>70445</th><th scope=col>155792</th><th scope=col>53632</th><th scope=col>17507</th><th scope=col>3175</th><th scope=col>149673</th><th scope=col>466838</th><th scope=col>497542</th><th scope=col>147460</th></tr></thead>\n",
       "<tbody>\n",
       "\t<tr><th scope=row>422908</th><td>0        </td><td>0.6842105</td><td>0.7222222</td><td>0.7368421</td><td>0.7368421</td><td>0.7391304</td><td>0.75     </td><td>0.7647059</td><td>0.7647059</td><td>0.7777778</td><td>0.7894737</td></tr>\n",
       "</tbody>\n",
       "</table>\n"
      ],
      "text/latex": [
       "\\begin{tabular}{r|lllllllllll}\n",
       "  & 422908 & 96767 & 70445 & 155792 & 53632 & 17507 & 3175 & 149673 & 466838 & 497542 & 147460\\\\\n",
       "\\hline\n",
       "\t422908 & 0         & 0.6842105 & 0.7222222 & 0.7368421 & 0.7368421 & 0.7391304 & 0.75      & 0.7647059 & 0.7647059 & 0.7777778 & 0.7894737\\\\\n",
       "\\end{tabular}\n"
      ],
      "text/markdown": [
       "\n",
       "| <!--/--> | 422908 | 96767 | 70445 | 155792 | 53632 | 17507 | 3175 | 149673 | 466838 | 497542 | 147460 |\n",
       "|---|---|---|---|---|---|---|---|---|---|---|---|\n",
       "| 422908 | 0         | 0.6842105 | 0.7222222 | 0.7368421 | 0.7368421 | 0.7391304 | 0.75      | 0.7647059 | 0.7647059 | 0.7777778 | 0.7894737 |\n",
       "\n"
      ],
      "text/plain": [
       "       422908 96767     70445     155792    53632     17507     3175 149673   \n",
       "422908 0      0.6842105 0.7222222 0.7368421 0.7368421 0.7391304 0.75 0.7647059\n",
       "       466838    497542    147460   \n",
       "422908 0.7647059 0.7777778 0.7894737"
      ]
     },
     "metadata": {},
     "output_type": "display_data"
    },
    {
     "data": {
      "text/html": [
       "<table>\n",
       "<thead><tr><th></th><th scope=col>index_voisin1_out</th><th scope=col>articles_voisin1_out</th><th scope=col>pr_voisin1_out</th></tr></thead>\n",
       "<tbody>\n",
       "\t<tr><th scope=row>10</th><td>547         </td><td>311874      </td><td>0.0073900807</td></tr>\n",
       "\t<tr><th scope=row>8</th><td>295         </td><td>19422       </td><td>0.0041079335</td></tr>\n",
       "\t<tr><th scope=row>7</th><td>232         </td><td>17094       </td><td>0.0019437288</td></tr>\n",
       "\t<tr><th scope=row>6</th><td>184         </td><td>155792      </td><td>0.0012277102</td></tr>\n",
       "\t<tr><th scope=row>17</th><td>961         </td><td>64835       </td><td>0.0011727795</td></tr>\n",
       "\t<tr><th scope=row>16</th><td>889         </td><td>522428      </td><td>0.0011042722</td></tr>\n",
       "\t<tr><th scope=row>11</th><td>557         </td><td>315693      </td><td>0.0009500090</td></tr>\n",
       "\t<tr><th scope=row>13</th><td>723         </td><td>396568      </td><td>0.0009433561</td></tr>\n",
       "\t<tr><th scope=row>1</th><td> 41         </td><td>110303      </td><td>0.0008514137</td></tr>\n",
       "\t<tr><th scope=row>3</th><td>113         </td><td>131548      </td><td>0.0005526332</td></tr>\n",
       "\t<tr><th scope=row>4</th><td>162         </td><td>147460      </td><td>0.0005513630</td></tr>\n",
       "\t<tr><th scope=row>15</th><td>859         </td><td>497542      </td><td>0.0004937419</td></tr>\n",
       "\t<tr><th scope=row>2</th><td> 92         </td><td>124         </td><td>0.0004821087</td></tr>\n",
       "\t<tr><th scope=row>12</th><td>560         </td><td>3170        </td><td>0.0004582422</td></tr>\n",
       "\t<tr><th scope=row>5</th><td>168         </td><td>149673      </td><td>0.0004332800</td></tr>\n",
       "\t<tr><th scope=row>14</th><td>809         </td><td>466838      </td><td>0.0003968531</td></tr>\n",
       "\t<tr><th scope=row>9</th><td>401         </td><td>241538      </td><td>0.0002119864</td></tr>\n",
       "</tbody>\n",
       "</table>\n"
      ],
      "text/latex": [
       "\\begin{tabular}{r|lll}\n",
       "  & index\\_voisin1\\_out & articles\\_voisin1\\_out & pr\\_voisin1\\_out\\\\\n",
       "\\hline\n",
       "\t10 & 547          & 311874       & 0.0073900807\\\\\n",
       "\t8 & 295          & 19422        & 0.0041079335\\\\\n",
       "\t7 & 232          & 17094        & 0.0019437288\\\\\n",
       "\t6 & 184          & 155792       & 0.0012277102\\\\\n",
       "\t17 & 961          & 64835        & 0.0011727795\\\\\n",
       "\t16 & 889          & 522428       & 0.0011042722\\\\\n",
       "\t11 & 557          & 315693       & 0.0009500090\\\\\n",
       "\t13 & 723          & 396568       & 0.0009433561\\\\\n",
       "\t1 &  41          & 110303       & 0.0008514137\\\\\n",
       "\t3 & 113          & 131548       & 0.0005526332\\\\\n",
       "\t4 & 162          & 147460       & 0.0005513630\\\\\n",
       "\t15 & 859          & 497542       & 0.0004937419\\\\\n",
       "\t2 &  92          & 124          & 0.0004821087\\\\\n",
       "\t12 & 560          & 3170         & 0.0004582422\\\\\n",
       "\t5 & 168          & 149673       & 0.0004332800\\\\\n",
       "\t14 & 809          & 466838       & 0.0003968531\\\\\n",
       "\t9 & 401          & 241538       & 0.0002119864\\\\\n",
       "\\end{tabular}\n"
      ],
      "text/markdown": [
       "\n",
       "| <!--/--> | index_voisin1_out | articles_voisin1_out | pr_voisin1_out |\n",
       "|---|---|---|---|\n",
       "| 10 | 547          | 311874       | 0.0073900807 |\n",
       "| 8 | 295          | 19422        | 0.0041079335 |\n",
       "| 7 | 232          | 17094        | 0.0019437288 |\n",
       "| 6 | 184          | 155792       | 0.0012277102 |\n",
       "| 17 | 961          | 64835        | 0.0011727795 |\n",
       "| 16 | 889          | 522428       | 0.0011042722 |\n",
       "| 11 | 557          | 315693       | 0.0009500090 |\n",
       "| 13 | 723          | 396568       | 0.0009433561 |\n",
       "| 1 |  41          | 110303       | 0.0008514137 |\n",
       "| 3 | 113          | 131548       | 0.0005526332 |\n",
       "| 4 | 162          | 147460       | 0.0005513630 |\n",
       "| 15 | 859          | 497542       | 0.0004937419 |\n",
       "| 2 |  92          | 124          | 0.0004821087 |\n",
       "| 12 | 560          | 3170         | 0.0004582422 |\n",
       "| 5 | 168          | 149673       | 0.0004332800 |\n",
       "| 14 | 809          | 466838       | 0.0003968531 |\n",
       "| 9 | 401          | 241538       | 0.0002119864 |\n",
       "\n"
      ],
      "text/plain": [
       "   index_voisin1_out articles_voisin1_out pr_voisin1_out\n",
       "10 547               311874               0.0073900807  \n",
       "8  295               19422                0.0041079335  \n",
       "7  232               17094                0.0019437288  \n",
       "6  184               155792               0.0012277102  \n",
       "17 961               64835                0.0011727795  \n",
       "16 889               522428               0.0011042722  \n",
       "11 557               315693               0.0009500090  \n",
       "13 723               396568               0.0009433561  \n",
       "1   41               110303               0.0008514137  \n",
       "3  113               131548               0.0005526332  \n",
       "4  162               147460               0.0005513630  \n",
       "15 859               497542               0.0004937419  \n",
       "2   92               124                  0.0004821087  \n",
       "12 560               3170                 0.0004582422  \n",
       "5  168               149673               0.0004332800  \n",
       "14 809               466838               0.0003968531  \n",
       "9  401               241538               0.0002119864  "
      ]
     },
     "metadata": {},
     "output_type": "display_data"
    },
    {
     "data": {
      "image/png": "[encoded data removed]",
      "text/plain": [
       "Plot with title \"Distribution des distances de Jaccard\""
      ]
     },
     "metadata": {},
     "output_type": "display_data"
    }
   ],
   "source": [
    "# On valide que l'article est à une distance nulle de lui-même\n",
    "paste(\"Distance de 422908 avec lui-même: \")\n",
    "jacc_422908['422908','422908']\n",
    "\n",
    "# Distribution des distance de Jaccard avec 422908\n",
    "hist(as.matrix(jacc_422908),\n",
    "    main=\"Distribution des distances de Jaccard\",\n",
    "    xlab=\"Distance de Jaccard\",\n",
    "    ylab=\"Fréquence\")\n",
    "\n",
    "\n",
    "# Transpose pour faciliter la lecture visuelle\n",
    "t_jacc_422908 <- t(jacc_422908)\n",
    "colnames(t_jacc_422908) <- 'Distance de Jaccard avec 422908'\n",
    "\n",
    "# Extraction des index les plus faible\n",
    "index_min_jacc <- min.nindex(t_jacc_422908,11)\n",
    "\n",
    "# Extraction des numéros d'articles avec la distance la plus faible\n",
    "articles_min_jacc <- articles[index_min_jacc]\n",
    "paste(\"Articles les plus près selon la distance de Jaccard\")\n",
    "(articles_min_jacc)\n",
    "\n",
    "# Valeurs des distances de ces articles les plus proches\n",
    "paste(\"Valeur des distances de Jaccard des articles les plus près\")\n",
    "jacc_422908[index_min_jacc]\n",
    "\n",
    "df_voisin1_out"
   ]
  },
  {
   "cell_type": "markdown",
   "metadata": {},
   "source": [
    "Encore une fois, nous avons que *422908* est le plus près de lui-même (analogue au fait que *422908* est l'article le plus similaire en cosinus avec lui-même).\n",
    "\n",
    "Cette troisième méthode de recommendation vient grandement confirmer nos recommendations émises aux questions 1 et 2 du tp. En effet, nous retrouvons encore une fois les articles \n",
    "- *96767*\n",
    "    - arc entrant avec la seconde plus grand valeur de PageRank\n",
    "- *70445*\n",
    "    - voisins sortant d'ordre 2, 4e suggestions en terme de valeur de PageRank lorsque l'on étend l'analyse aux voisins d'ordre 2. Il existe 4 chemins différents d'ordre 2 de *422908* vers *70445*\n",
    "- *155792*\n",
    "    - 4e voisin le plus populaire (valeur de PageRank) parmis les références de *422908*\n",
    "- *53632*\n",
    "    - 6e article le plus similaire en cosinus de *422908*\n",
    "\n",
    "\n",
    "Nous avons fait cette exploration supplémentaire avec la distance de Jaccard simplement pour mettre en application une métrique/distance différente. Il en existe une panoplie et il est important de ne pas toujours se limiter à la similitude en cosinus. "
   ]
  },
  {
   "cell_type": "markdown",
   "metadata": {},
   "source": [
    "### Question 3: Utilisez une validation croisée pour évaluez la performance de l'approche par similitude en cosinus."
   ]
  },
  {
   "cell_type": "markdown",
   "metadata": {},
   "source": [
    "La question 3 nous demande de valider notre approche utilisée à la question précédente à l'aide d'une méthode de validation croisée. Nous avons appliqué telle quelle la méthodologie de l'article suggéré (*On the recommending of citations for research papers.*):\n",
    "\n",
    "1. Nous sélectionnons tous les articles ayant un minimum de **X** références sortantes (**X** est le premier hyperparamètre).\n",
    "2. Nous séparons les articles sélectionnés en 10 blocs.\n",
    "3. Pour chaque bloc (un après l'autre, soit des *folds*), nous retirons une référence au hasard par article.\n",
    "4. Nous replaçons les articles (maintenant avec une référence en moins) du bloc dans la matrice d'adjacence.\n",
    "5. Nous calculons la similitude en cosinus des articles du bloc avec tous les autres articles de la matrice d'ajdacence modifiée.\n",
    "6. Nous regardons si pour chaque article, la référence enlevée fait partie de ses **Y** similitude en cosinus les plus élevées (**Y** est le deuxième hyperparamètre). \n",
    "7. Si oui, alors nous avons réussi à retrouver la références qui a été enlevé. Nous comptabilisons un essaie positif pour cet article de ce bloc de validation.\n",
    "8. Pour chaque combinaison d'hyperparamtètres **X** et **Y** nous obtenons donc 10 valeurs (une par bloc) de précision. Pour chaque combinaison, nous calculons la moyenne et l'écart-type de la distribution des 10 précisions obtenues.\n",
    "\n",
    "\n",
    "Au terme de ce processus, nous obtenons une valeur (moyenne) de la précision pour une combinaison de **X** et **Y**. Il est évident que pour un même **X**, plus **Y** est élevé, plus la précision devrait être élevé (nous sélectionnons les même articles, mais nous permettons de regarder plus d'articles lors de la comparaison avec les top similitude en cosinus). La preuve en est que si **Y** vaut 1090 (le nombre d'articles), alors la précision sera toujours de 100%. Il est moins évident d'émettre une hypothèse sur le comportement de la précision lorsque **Y** est fixe et que **X** augmente. Il est intuitif de déduire que puisque les articles sélectionnés possède plus de références sortantes, alors en enlever une devrait très peu modifier leur similitude en cosinus avec les autres articles. Cependant, cela suppose que la similitude en cosinus est effectivement une méthode efficace pour trouver des articles similaires (ce que nous essayons de valider...). \n",
    "\n",
    "En plus d'effectuer le *leave one out* de références, nous avons décider de comparer la précision moyenne obtenu pour chaque combinaison d'hyperparamètre avec deux *baselines*. Effectivement, simplement en effectuant le *leave on out*, nous obtenons une précision très difficile à mettre en perspective. Disons que nous obtenons une précision de 27%, est-ce un bon résultat? En utilisant des recommendations naïves (les *baselines*) obtienderions nous une meilleure précision? C'est ce que nous voulions vérifier. Par exemple, si nous pensons à un modèle pour prédire le résultats d'un jeu de *pile ou face*, une précision de 27% serait très mauvaise puisqu'au hasard nous pouvons avoir une précision de 50% (e.g. toujours prédire *face*). Similairement, nous pourrions dire qu'une *baseline* ''zéro'' (donc très élémentaire) pourrait être de suggérer au hasard un article parmi les 1090. Nous aurions donc une précision de $\\frac{1}{1090}$%, soit 0.09%. \n",
    "\n",
    "Voici les deux *baselines* avec lesquelles nous comparons nos résultats issues de la validation croisées:\n",
    "\n",
    "1. Pour une expérience d'hyperparamètre **Y** donné, toujours suggérés les **Y** articles ayant les valeurs de PageRank les plus élevés.\n",
    "    - Il n'y a donc aucune personnalisation face à l'article qui s'est vu retirer une référence. Nous ne faisons que suggérer les **Y** articles les plus populaires de la base de données.\n",
    "\n",
    "2. Pour une expérience d'hyperparamètre **Y** donnée, toujours suggérés les **Y** articles ayant le plus de référants entrants.\n",
    "    - Encore une fois, il n'y a pas de personnalisation face à l'artcile qui s'est vu retirer une référence. Le raisonnement derrière cette *baseline* est que les articles ayant beaucoup de référant ont des chances élevées d'être la référence d'un aut article.\n",
    "    \n",
    "    \n",
    "Voici les valeurs d'hyperparamètres que nous avons choisies pour nos expériences:\n",
    "\n",
    "**X**={4,9,10,14} et **Y**={5,20,50,100,200}. Nous avons déterminé ces valeurs en observant les distributions du nombre de références sortantes et du nombre de similitudes en cosinus étant non-nulle et pas un *NaN*. \n",
    "\n",
    "Effectivement, nous avons 351 similitudes en cosinus *NaN* (division par des articles de norme zéro, puisqu'ils ne possèdent aucune références) et nous avons, pour l'article *422908*, 467 similitudes en cosinus nulles (numérateur nulle, car aucune références en commun avec aucun autre article). Nous assumons que tous les articles devraient avoir envirion autant de similude nulle (sinon voir plus) que l'article *422908*. Ainsi, il reste environ 272 articles en moyenne dont nous avons une valeur utilisable de similitude en cosinus. Voilà pourquoi nous n'avons pas augmente **Y** au-dessus de 200. \n",
    "\n",
    "Pour déterminer **X**, nous avons regarder la distribution du nombre de références sortantes d'un article:\n",
    "\n"
   ]
  },
  {
   "cell_type": "code",
   "execution_count": 47,
   "metadata": {},
   "outputs": [
    {
     "data": {
      "text/html": [
       "542"
      ],
      "text/latex": [
       "542"
      ],
      "text/markdown": [
       "542"
      ],
      "text/plain": [
       "[1] 542"
      ]
     },
     "metadata": {},
     "output_type": "display_data"
    },
    {
     "data": {
      "text/html": [
       "229"
      ],
      "text/latex": [
       "229"
      ],
      "text/markdown": [
       "229"
      ],
      "text/plain": [
       "[1] 229"
      ]
     },
     "metadata": {},
     "output_type": "display_data"
    },
    {
     "data": {
      "text/html": [
       "47"
      ],
      "text/latex": [
       "47"
      ],
      "text/markdown": [
       "47"
      ],
      "text/plain": [
       "[1] 47"
      ]
     },
     "metadata": {},
     "output_type": "display_data"
    },
    {
     "data": {
      "text/html": [
       "32"
      ],
      "text/latex": [
       "32"
      ],
      "text/markdown": [
       "32"
      ],
      "text/plain": [
       "[1] 32"
      ]
     },
     "metadata": {},
     "output_type": "display_data"
    },
    {
     "data": {
      "text/html": [
       "13"
      ],
      "text/latex": [
       "13"
      ],
      "text/markdown": [
       "13"
      ],
      "text/plain": [
       "[1] 13"
      ]
     },
     "metadata": {},
     "output_type": "display_data"
    },
    {
     "data": {
      "text/html": [
       "10"
      ],
      "text/latex": [
       "10"
      ],
      "text/markdown": [
       "10"
      ],
      "text/plain": [
       "[1] 10"
      ]
     },
     "metadata": {},
     "output_type": "display_data"
    },
    {
     "data": {
      "text/html": [
       "6"
      ],
      "text/latex": [
       "6"
      ],
      "text/markdown": [
       "6"
      ],
      "text/plain": [
       "[1] 6"
      ]
     },
     "metadata": {},
     "output_type": "display_data"
    },
    {
     "data": {
      "text/html": [
       "2"
      ],
      "text/latex": [
       "2"
      ],
      "text/markdown": [
       "2"
      ],
      "text/plain": [
       "[1] 2"
      ]
     },
     "metadata": {},
     "output_type": "display_data"
    }
   ],
   "source": [
    "sum(ref_out>1)\n",
    "sum(ref_out>4)\n",
    "sum(ref_out>9)\n",
    "sum(ref_out>10)\n",
    "sum(ref_out>14)\n",
    "sum(ref_out>15)\n",
    "sum(ref_out>20)\n",
    "sum(ref_out>30)"
   ]
  },
  {
   "cell_type": "markdown",
   "metadata": {},
   "source": [
    "Initiallement, nous aurions aimer inclure **Y**=20 dans nos expériences, mais tel qu'il peut être constaté dans la cellule ci-dessus, seulement 6 articles respectent cette condition. Cela représente trop peu de données pour réellement être en mesure d'effectuer de la validation croisée et obtenir des résultats significatifs.\n",
    "\n",
    "Explorons donc les résultats de nos expériences ainsi que la comparaison avec les deux *baselines*.\n",
    "\n",
    "Dans l'implémentation, nous avons nommé **X**: *nbx_ref* et **Y**: *N*."
   ]
  },
  {
   "cell_type": "code",
   "execution_count": 16,
   "metadata": {},
   "outputs": [],
   "source": [
    "#On extrait les articles ayant plus de nbx_ref de ref_out\n",
    "\n",
    "## nbx_ref : Nombre de reference d'un article pour qu'il soient jugé \"interessant\"\n",
    "## N du top N\n",
    "\n",
    "Nlist <- cbind(5, 20, 50, 100, 200)\n",
    "nbx_ref_list <- cbind(4, 9, 14)"
   ]
  },
  {
   "cell_type": "code",
   "execution_count": null,
   "metadata": {},
   "outputs": [],
   "source": [
    "### Validation croisé Initialisation :\n",
    "Kr <- 10 # pour 10-validation croisée\n",
    "#Execution du programme avec différents hyper param\n",
    "for (N_index in 1:length(Nlist)) { \n",
    "#for (N_index in 1:1) {\n",
    "    N <- Nlist[N_index]\n",
    "    \n",
    "    pr_topN <- articles[max.nindex(pr, N)]\n",
    "    ref_in_topN <- articles[max.nindex(ref_in, N)]\n",
    "    \n",
    "    for (nbx_ref_index in 1:length(nbx_ref_list)){\n",
    "    #for (nbx_ref_index in 1:1){\n",
    "        nbx_ref <- nbx_ref_list[nbx_ref_index]\n",
    "        lot_reference_index_article <- m[ref_out > nbx_ref_list[nbx_ref_index],]\n",
    "        n <- length(m[ref_out > nbx_ref])\n",
    "        \n",
    "        #head(lot_reference_index_article)\n",
    "        #print(dim(lot_reference_index_article))\n",
    "        #paste(\"Nombre d'article référencant plus de 4 articles\")\n",
    "        \n",
    "        #################################################################################################\n",
    "        ### Validation croisé Initialisation :\n",
    "        taille_echantillon <- n %/% Kr\n",
    "        set.seed(5) ### ?Pour l'aléatoire\n",
    "        alea <- runif(n) # Generates n uniform random numbers between 0 and 1.\n",
    "        rang <- rank(alea) # Donne le rang des elements d'alea\n",
    "\n",
    "        # Associer à chaque individu un numéro de bloc\n",
    "        # Rang compris entre 1 et n donc bloc compris entre 1 et K, \n",
    "        # Donne à chaque individu, l'indice de l'intervalle auquel il appartient.\n",
    "        bloc <- (rang-1) %/% taille_echantillon + 1\n",
    "        bloc <- as.factor(bloc)\n",
    "        \n",
    "        ###Stock les résultats des 10 folds de la validation\n",
    "        vect_prec <- numeric(0)\n",
    "        vect_prec_ref_in <- numeric(0)\n",
    "        vect_prec_pr <- numeric(0)\n",
    "        \n",
    "        #################################################################################################\n",
    "        \n",
    "        ### Exécution de la validation croisée\n",
    "        for (j in 1:Kr){\n",
    "            \n",
    "            article_to_remove_ref <- lot_reference_index_article[bloc == j,]\n",
    "            article_to_remove_ref_out <- rowSums(article_to_remove_ref)\n",
    "            set.seed(5)\n",
    "            m_modif <- m\n",
    "            rowNames <- row.names(article_to_remove_ref)\n",
    "            remove_ref_names <- numeric(0)\n",
    "            vect_ref_in_topN <- numeric(0)\n",
    "            vect_ref_in_pr_topN <- numeric(0)\n",
    "            vect_ref_in_refin_topN <- numeric(0)\n",
    "\n",
    "            #################################################################################################\n",
    "            #On retire une reference à chaque article appartenant au 10% des articles bien défini\n",
    "            for (i in 1:dim(article_to_remove_ref)[1]){\n",
    "\n",
    "                rd_int <- sample(1:article_to_remove_ref_out[i], 1)\n",
    "\n",
    "                m_modif[rowNames[i],][which(article_to_remove_ref[i,]==1)][rd_int] <- 0\n",
    "                remove_ref_name <- colnames(m_modif[rowNames[i],][which(article_to_remove_ref[i,]==1)][rd_int])\n",
    "                remove_ref_name <- str_remove(remove_ref_name, \"[X]\")\n",
    "                remove_ref_names <- rbind(remove_ref_names, remove_ref_name)\n",
    "                \n",
    "                ### Baseline : \"Est ce que la référence enlevé est dans le TopN pr et ref_in?\":\n",
    "                vect_ref_in_pr_topN <- cbind(vect_ref_in_pr_topN, remove_ref_name %in% pr_topN)\n",
    "                vect_ref_in_refin_topN <- cbind(vect_ref_in_refin_topN, remove_ref_name %in% ref_in_topN)\n",
    "\n",
    "            }\n",
    "            #################################################################################################\n",
    "            \n",
    "            # On calcul similarité du cosinus sur toute la matrice (avec les références enlevées m_modif):\n",
    "            # On calcul la similarité en cosinus de chaque article avec chacun des autres\n",
    "            cos_simil <- as.data.frame(distance(m_modif, method = \"cosine\"))\n",
    "            \n",
    "            # On renomme les lignes et colonnes pour faciliter l'implementation\n",
    "            colnames(cos_simil) <- articles\n",
    "            rownames(cos_simil) <- articles\n",
    "\n",
    "            # On extrait la similitude de l'article avec chacun des autres articles, pour les articles auquels on a enlevé une référence\n",
    "            cos_simil_rowNames <- cos_simil[rowNames,]\n",
    "\n",
    "            for (r in 1:nrow(cos_simil_rowNames)){\n",
    "\n",
    "                #Similitude de la reference enleve\n",
    "                print(\"Valeur du cosinus de la référence enlevé : \")\n",
    "                print(cos_simil_rowNames[r, remove_ref_names[r]])\n",
    "\n",
    "                ordered_index <- order(t(cos_simil_rowNames[r,]), decreasing=TRUE, na.last = TRUE)\n",
    "                ordered_list <- sort(t(cos_simil_rowNames[r,]), decreasing=TRUE, na.last = TRUE)\n",
    "\n",
    "                print(\"Rang de la référence enlevée : \")\n",
    "                #Rang de la reference enleve\n",
    "                rank_removed_ref <- which(ordered_list == cos_simil_rowNames[r, remove_ref_names[r]])[1]\n",
    "                print(which(ordered_list == cos_simil_rowNames[r, remove_ref_names[r]])[1])\n",
    "\n",
    "                # Remplissage du vecteur pour calculé la \"précision\" du fold\n",
    "                if (!is.na(rank_removed_ref) && rank_removed_ref <= N) {\n",
    "                    vect_ref_in_topN <- cbind(vect_ref_in_topN, 1)\n",
    "                } else {\n",
    "                    vect_ref_in_topN <- cbind(vect_ref_in_topN, 0)\n",
    "                }\n",
    "            }\n",
    "            prec <- sum(vect_ref_in_topN)/length(vect_ref_in_topN)\n",
    "            prec_pr <- sum(vect_ref_in_pr_topN)/length(vect_ref_in_pr_topN)\n",
    "            prec_ref_in <- sum(vect_ref_in_refin_topN)/length(vect_ref_in_refin_topN)\n",
    "\n",
    "            vect_prec <- rbind(vect_prec, prec)\n",
    "            vect_prec_ref_in <- rbind(vect_prec_ref_in, prec_ref_in)\n",
    "            vect_prec_pr <- rbind(vect_prec_pr, prec_pr)\n",
    "        }\n",
    "        ### Sauvegarde des résultats selon les hyper-paramètre\n",
    "        ##set the col name\n",
    "        colnames(vect_prec) <- \"Précision de la prévision\"\n",
    "        colnames(vect_prec_pr) <- \"Précision de la baseline PageRank\"\n",
    "        colnames(vect_prec_ref_in) <- \"Précision de la baseline RefIn\"\n",
    "        ## set the row name?\n",
    "        \n",
    "        \n",
    "        write.table(vect_prec,file=paste( nbx_ref , N , \"prec.txt\", sep=\"_\"))\n",
    "        write.table(vect_prec_pr,file=paste( nbx_ref , N , \"precPageRank.txt\", sep=\"_\"), append=TRUE)\n",
    "        write.table(vect_prec_ref_in,file=paste( nbx_ref , N , \"precRefIn.txt\", sep=\"_\"), append=TRUE)\n",
    "        print(\"##################################END SAVE############################################\")\n",
    "        # Fin de la validation croisée\n",
    "        #################################################################################################\n",
    "    }\n",
    "}"
   ]
  },
  {
   "cell_type": "markdown",
   "metadata": {},
   "source": [
    "Puisque nous avons performé plusieurs expériences avec différentes combinaisons d'hyperparamètres, l'exécution de la validation croisée est relativement longue. Voilà pourquoi nous avons implémenté une méthode pour charger les résultats."
   ]
  },
  {
   "cell_type": "code",
   "execution_count": 73,
   "metadata": {},
   "outputs": [],
   "source": [
    "# Initialisation du dictionnaire des expériences\n",
    "exp <- hash()\n",
    "\n",
    "#### Lire les fichiers sauvegardé\n",
    "for (N_index in 1:length(Nlist)) {\n",
    "    N <- Nlist[N_index]\n",
    "    for (nbx_ref_index in 1:length(nbx_ref_list)){\n",
    "        nbx_ref <- nbx_ref_list[nbx_ref_index]\n",
    "\n",
    "        pathname_prec <- paste( nbx_ref , N , \"prec.txt\", sep=\"_\")\n",
    "        pathname_prec_pr <- paste( nbx_ref , N , \"precPageRank.txt\", sep=\"_\")\n",
    "        pathname_prec_ref_in <- paste( nbx_ref , N , \"precRefIn.txt\", sep=\"_\")\n",
    "        \n",
    "        \n",
    "        Rprec <- as.matrix(read.table(pathname_prec, nrows = 10, row.names=NULL)[,2])\n",
    "        Rprec_pr <- as.matrix(read.table(pathname_prec_pr, row.names=NULL)[,2])\n",
    "        Rprec_refIn <- as.matrix(read.table(pathname_prec_ref_in, row.names=NULL)[,2])\n",
    "        \n",
    "        df_ite <- data.frame(Rprec, Rprec_pr, Rprec_refIn)\n",
    "        df_ite <- rbind(df_ite,colMeans(df_ite))\n",
    "        colnames(df_ite) <- c(\"Experience\",\"PR\",\"Ref_In\")\n",
    "        row.names(df_ite) <- c(\"1\", \"2\", \"3\", \"4\", \"5\", \"6\", \"7\", \"8\", \"9\", \"10\", \"Average\")\n",
    "        \n",
    "        experience <- paste(nbx_ref, N, sep=\"_\")\n",
    "        exp[experience]<-df_ite\n",
    "\n",
    "        \n",
    "        \n",
    "        }\n",
    "    }"
   ]
  },
  {
   "cell_type": "markdown",
   "metadata": {},
   "source": [
    "Afin de facilement pouvoir accéder à tous nos résultats (des 15 expériences), nous avons créer un dictionnaire *exp* dont chaque *key* est le nom d'un expérience et chaque *value* est le *dataframe* correspondant. Cest *dataframes* contiennent la précision de l'expérience (similitude en cosinus), la valeur de la *baseline* PageRank et la valeur de la *baseline* selon les références entrantes."
   ]
  },
  {
   "cell_type": "code",
   "execution_count": 84,
   "metadata": {
    "scrolled": true
   },
   "outputs": [
    {
     "name": "stdout",
     "output_type": "stream",
     "text": [
      "Résultats pour nbx_ref=4 et Top 5 recommendations:\n",
      "\n",
      "        Experience         PR     Ref_In\n",
      "1       0.09090909 0.22727273 0.22727273\n",
      "2       0.22727273 0.04545455 0.13636364\n",
      "3       0.09090909 0.13636364 0.09090909\n",
      "4       0.18181818 0.18181818 0.18181818\n",
      "5       0.09090909 0.13636364 0.18181818\n",
      "6       0.04545455 0.27272727 0.22727273\n",
      "7       0.27272727 0.36363636 0.27272727\n",
      "8       0.09090909 0.22727273 0.22727273\n",
      "9       0.22727273 0.18181818 0.13636364\n",
      "10      0.27272727 0.13636364 0.09090909\n",
      "Average 0.15909091 0.19090909 0.17727273\n"
     ]
    }
   ],
   "source": [
    "# Exemple de la structure des données\n",
    "cat(\"Résultats pour nbx_ref=4 et Top 5 recommendations:\\n\\n\")\n",
    "print(exp[[\"4_5\"]])\n"
   ]
  },
  {
   "cell_type": "markdown",
   "metadata": {},
   "source": [
    "Nous pouvons voir une très grande variation de la précision à travers les *folds*. Ceci peut s'expliquer par le fait que peu d'observations font partie de chaque *fold*. Notre base de données est assez petite (1090 articles) et en plus, la piètre qualité des données réduit grandement le nombre d'observations que nous pouvons mettre dans notre échantillon (comme expliqué plus haut, l'expérience ayant le plus d'articles en possède seulement environ 270). \n",
    "\n",
    "Déterminons parmis nos 15 expériences, combien ont réussi à obtenir une meilleure précisions que les *baselines*."
   ]
  },
  {
   "cell_type": "code",
   "execution_count": 129,
   "metadata": {},
   "outputs": [
    {
     "name": "stdout",
     "output_type": "stream",
     "text": [
      "[1] \"Pour l'expérience nbx_ref= 4  et N= 20  la similitude en cosinus donne une meilleure précision que les baselines\"\n",
      "        Experience        PR Ref_In\n",
      "Average  0.3636364 0.2727273    0.3\n",
      "\n",
      "[1] \"Pour l'expérience nbx_ref= 4  et N= 50  la similitude en cosinus donne une meilleure précision que les baselines\"\n",
      "        Experience        PR Ref_In\n",
      "Average  0.4863636 0.3681818    0.4\n",
      "\n",
      "[1] \"Pour l'expérience nbx_ref= 4  et N= 100  la similitude en cosinus donne une meilleure précision que les baselines\"\n",
      "        Experience        PR    Ref_In\n",
      "Average  0.6045455 0.4909091 0.5636364\n",
      "\n",
      "[1] \"Pour l'expérience nbx_ref= 9  et N= 5  la similitude en cosinus donne une meilleure précision que les baselines\"\n",
      "        Experience PR Ref_In\n",
      "Average       0.15  0   0.05\n",
      "\n",
      "[1] \"Pour l'expérience nbx_ref= 9  et N= 20  la similitude en cosinus donne une meilleure précision que les baselines\"\n",
      "        Experience  PR Ref_In\n",
      "Average      0.325 0.1   0.15\n",
      "\n",
      "[1] \"Pour l'expérience nbx_ref= 9  et N= 50  la similitude en cosinus donne une meilleure précision que les baselines\"\n",
      "        Experience  PR Ref_In\n",
      "Average      0.425 0.2    0.3\n",
      "\n",
      "[1] \"Pour l'expérience nbx_ref= 9  et N= 100  la similitude en cosinus donne une meilleure précision que les baselines\"\n",
      "        Experience    PR Ref_In\n",
      "Average        0.6 0.325   0.45\n",
      "\n",
      "[1] \"Pour l'expérience nbx_ref= 9  et N= 200  la similitude en cosinus donne une meilleure précision que les baselines\"\n",
      "        Experience    PR Ref_In\n",
      "Average       0.65 0.475  0.525\n",
      "\n",
      "[1] \"Pour l'expérience nbx_ref= 14  et N= 5  la similitude en cosinus donne une meilleure précision que les baselines\"\n",
      "        Experience PR Ref_In\n",
      "Average        0.2  0      0\n",
      "\n",
      "[1] \"Pour l'expérience nbx_ref= 14  et N= 20  la similitude en cosinus donne une meilleure précision que les baselines\"\n",
      "        Experience PR Ref_In\n",
      "Average        0.2  0    0.1\n",
      "\n",
      "[1] \"Pour l'expérience nbx_ref= 14  et N= 50  la similitude en cosinus donne une meilleure précision que les baselines\"\n",
      "        Experience  PR Ref_In\n",
      "Average        0.4 0.1    0.3\n",
      "\n",
      "[1] \"Pour l'expérience nbx_ref= 14  et N= 100  la similitude en cosinus donne une meilleure précision que les baselines\"\n",
      "        Experience  PR Ref_In\n",
      "Average        0.6 0.3    0.3\n",
      "\n",
      "[1] \"Pour  12  de nos 15 expériences, l'approche par similitude en cosinus a obtenu une meilleure précision que les deux baselines\"\n"
     ]
    }
   ],
   "source": [
    "nbx_ref=c(4,9,14)\n",
    "N=c(5,20,50,100,200)\n",
    "compteur=0\n",
    "for (i in nbx_ref){\n",
    "    for (j in N){\n",
    "        experience <- paste(i,j,sep=\"_\")\n",
    "        avg_exp <- exp[[experience]]['Average', 'Experience']\n",
    "        avg_pr <- exp[[experience]]['Average', 'PR']\n",
    "        avg_ref_in <- exp[[experience]]['Average', 'Ref_In']\n",
    "        \n",
    "        if (avg_exp>=avg_pr){\n",
    "            if(avg_exp>=avg_ref_in){\n",
    "            compteur=compteur+1\n",
    "            print(paste(\"Pour l'expérience nbx_ref=\", i,\" et N=\",j, \" la similitude en cosinus donne une meilleure précision que les baselines\"))\n",
    "            print(exp[[experience]]['Average',])\n",
    "            cat('\\n')\n",
    "        }\n",
    "        }\n",
    "}}\n",
    "\n",
    "print(paste(\"Pour \",compteur,\" de nos 15 expériences, l'approche par similitude en cosinus a obtenu une meilleure précision que les deux baselines\"))"
   ]
  },
  {
   "cell_type": "markdown",
   "metadata": {},
   "source": [
    "Pour 12 de nos 15 expériences, l'approche par similitude en cosinus était meilleure que de simplement suggérer les articles les plus populaires ou les articles ayant le plus de références entrantes.\n",
    "\n",
    "Les 3 expériences pour lesquelles au moins une *baseline* était plus performante que notre approche sont les expériences (4,5), (4,200) et (14,200) ou le premier argument représente *nbx_ref* et le second représente *N*.\n",
    "\n",
    "Les échecs ou les réussite pour les expériences où *N=200* sont assez vide de sens. En effet, nous suggérons presque l'entièreté de tous les autres articles, ainsi, peut-importe la méthode pour déterminer l'ordonnacement, il est virtuellement impossible d'avoir une mauvaise précision. \n",
    "\n",
    "Il reste donc seulement l'expérience (4,5) pour laquelle les *baselines* ont eu une meilleure précision que l'approche par similitude en cosinus. C'est effectivement l'expérience pour laquelle les observations sont mal représentées (seulement 3 références restantes après le retrait d'une référence) et en plus, seulement un top 5 est suggéré. \n",
    "\n",
    "Cela nous indique donc que l'approche par similitude en cosinus semble mieux performer que des approches naïves (telles les deux *baselines*), mais uniquemment lorsque nous possédons assez d'information (donc relativement beaucoup de références) sur l'article et lorsque nous donnons une certaine marge d'erreur acceptable (en allant chercher un top N d'articles d'au moins 20). \n",
    "\n",
    "L'approche par similitude en cosinus est particulièrement plus performante que les deux *baselines* lorsque la qualité (donc le nombre de références disponibles) des articles dans les *folds* augmente. Cela démontre bien que notre approche construit sur les connaissances disponibles, à comparer au approche naïves qui suggèrent toujours les même articles (soient les plus populaires ou ceux ayant le plus de référant). "
   ]
  },
  {
   "cell_type": "markdown",
   "metadata": {},
   "source": [
    "Visualisons les résultats des 5 expériences pour lesquelles *nbx_ref*=9. Ces expériences démontrent bien le comportement général de notre approche face aux *baselines*. "
   ]
  },
  {
   "cell_type": "code",
   "execution_count": 154,
   "metadata": {},
   "outputs": [
    {
     "name": "stdout",
     "output_type": "stream",
     "text": [
      "        Experience PR Ref_In\n",
      "Average       0.15  0   0.05\n",
      "        Experience  PR Ref_In\n",
      "Average      0.325 0.1   0.15\n",
      "        Experience  PR Ref_In\n",
      "Average      0.425 0.2    0.3\n",
      "        Experience    PR Ref_In\n",
      "Average        0.6 0.325   0.45\n",
      "        Experience    PR Ref_In\n",
      "Average       0.65 0.475  0.525\n"
     ]
    }
   ],
   "source": [
    "exp_9 <- rep(0, 5)\n",
    "PR_9 <-rep(0, 5)\n",
    "ref_in_9 <- rep(0, 5)\n",
    "\n",
    "for (i in seq(5)){\n",
    "    number <- paste(\"9_\",N[i],sep='')\n",
    "    df <- exp[[number]]\n",
    "    df_avg <- df['Average',]\n",
    "    exp_9[i] <- df_avg[,1]\n",
    "    PR_9[i] <- df_avg[,2]\n",
    "    ref_in_9[i] <- df_avg[,3]\n",
    "    print(df_avg)\n",
    "}\n"
   ]
  },
  {
   "cell_type": "code",
   "execution_count": 212,
   "metadata": {},
   "outputs": [
    {
     "data": {
      "image/png": "[encoded data removed]",
      "text/plain": [
       "Plot with title \"Comparaison de performance pour nbx_ref=9\""
      ]
     },
     "metadata": {},
     "output_type": "display_data"
    }
   ],
   "source": [
    "plot(N, exp_9,\n",
    "    main=\"Comparaison de performance pour nbx_ref=9\",\n",
    "    xlab=\"Top N dans les recommendations\",\n",
    "    ylab=\"Précision\",\n",
    "    pch=19,\n",
    "    type='b',\n",
    "    col='black',\n",
    "    ylim=c(0,0.8))\n",
    "\n",
    "\n",
    "points(N, ref_in_9,\n",
    "      pch=19,\n",
    "      col='blue',\n",
    "      type='b')\n",
    "\n",
    "points(N, PR_9,\n",
    "      pch=19,\n",
    "      col='red',\n",
    "      type='b')\n",
    "\n",
    "legend(10, 0.8, legend=c(\"Similitude en cosinus\", \"Baseline Ref_In\" ,\"Baseline PageRank\"),\n",
    "       col=c(\"black\", \"blue\",\"red\"),pch=c(19,19,19))"
   ]
  },
  {
   "cell_type": "markdown",
   "metadata": {},
   "source": [
    "Le graphique ci-dessus présente les résultats de chaque expérience moyenné sur les 10 *folds*.\n",
    "\n",
    "Les tendances trouvées pour *nbx_ref*=9 sont similaires à celles établies pour *nbx_ref*=4 et *nbx_ref*=14. Par soucis de concision, seulement les résultats pour *nbx_ref*=9 sont présentées. Il aurait été redondant de présenter les résultats de chacunes des expériences.\n",
    "\n",
    "On observe que la similitude en cosinus est plus performante que les deux *baselines* sélectionnées pour retrouver un voisin retiré. Donc, relativement aux *baselines*, l'approche par similitude en cosinus est acceptable. Cependant, de manière aboslue, la performance n'est pas excellente. En effet, lorsque nous regardons les expériences dont le Top N est respectable (soient 5 et 20), l'approche par similtiude ne réussit qu'à avoir une précision de 33%. En moyenne, une fois sur 3 nous réussissons donc à retrouver la référence manquante. Ceci est donc moindrement performant, dans l'absolue, comme approche.\n",
    "\n",
    "Une approche plus performante aurait possiblement été de trouver l'article le plus similaires à toutes les références restantes de l'article. Nous aurions donc été plus près d'une approche item-item que d'un simple calcul en similitude. \n",
    "\n",
    "Définitivement, l'approche par similitude ainsi que les deux *baselines* sont bien meilleures que de recommender un article au hasard parmis les 1090 de la base de données."
   ]
  }
 ],
 "metadata": {
  "kernelspec": {
   "display_name": "R",
   "language": "R",
   "name": "ir"
  },
  "language_info": {
   "codemirror_mode": "r",
   "file_extension": ".r",
   "mimetype": "text/x-r-source",
   "name": "R",
   "pygments_lexer": "r",
   "version": "3.6.1"
  }
 },
 "nbformat": 4,
 "nbformat_minor": 2
}
